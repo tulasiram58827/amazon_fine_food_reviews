{
 "cells": [
  {
   "cell_type": "code",
   "execution_count": 1,
   "metadata": {},
   "outputs": [
    {
     "name": "stderr",
     "output_type": "stream",
     "text": [
      "C:\\Users\\tulasi ram\\Anaconda3\\lib\\site-packages\\sklearn\\cross_validation.py:41: DeprecationWarning: This module was deprecated in version 0.18 in favor of the model_selection module into which all the refactored classes and functions are moved. Also note that the interface of the new CV iterators are different from that of this module. This module will be removed in 0.20.\n",
      "  \"This module will be removed in 0.20.\", DeprecationWarning)\n"
     ]
    }
   ],
   "source": [
    "#importing all necessary modules\n",
    "\n",
    "%matplotlib inline\n",
    "\n",
    "import sqlite3\n",
    "import pandas as pd\n",
    "import numpy as np\n",
    "import nltk\n",
    "import string\n",
    "import matplotlib.pyplot as plt\n",
    "import seaborn as sns\n",
    "from sklearn.feature_extraction.text import TfidfTransformer\n",
    "from sklearn.feature_extraction.text import TfidfVectorizer\n",
    "\n",
    "from sklearn.feature_extraction.text import CountVectorizer\n",
    "from sklearn.metrics import confusion_matrix\n",
    "from sklearn import metrics\n",
    "from sklearn.metrics import roc_curve, auc\n",
    "from nltk.stem.porter import PorterStemmer\n",
    "from sklearn.cross_validation import train_test_split\n",
    "from sklearn.neighbors import KNeighborsClassifier\n",
    "from sklearn.metrics import accuracy_score\n",
    "from sklearn.cross_validation import cross_val_score\n",
    "from collections import Counter\n",
    "from sklearn.metrics import accuracy_score\n",
    "from sklearn import cross_validation\n",
    "\n",
    "#Reading the preprocessed data into final\n",
    "final = sqlite3.connect('C:\\\\Users\\\\tulasi ram\\\\Desktop\\\\amazon_food_reviews\\\\final.sqlite')"
   ]
  },
  {
   "cell_type": "code",
   "execution_count": 2,
   "metadata": {
    "collapsed": true
   },
   "outputs": [],
   "source": [
    "final_data=pd.read_sql_query(\"\"\"SELECT * FROM Reviews \"\"\", final)"
   ]
  },
  {
   "cell_type": "code",
   "execution_count": 3,
   "metadata": {},
   "outputs": [
    {
     "data": {
      "text/html": [
       "<div>\n",
       "<style>\n",
       "    .dataframe thead tr:only-child th {\n",
       "        text-align: right;\n",
       "    }\n",
       "\n",
       "    .dataframe thead th {\n",
       "        text-align: left;\n",
       "    }\n",
       "\n",
       "    .dataframe tbody tr th {\n",
       "        vertical-align: top;\n",
       "    }\n",
       "</style>\n",
       "<table border=\"1\" class=\"dataframe\">\n",
       "  <thead>\n",
       "    <tr style=\"text-align: right;\">\n",
       "      <th></th>\n",
       "      <th>index</th>\n",
       "      <th>Id</th>\n",
       "      <th>ProductId</th>\n",
       "      <th>UserId</th>\n",
       "      <th>ProfileName</th>\n",
       "      <th>HelpfulnessNumerator</th>\n",
       "      <th>HelpfulnessDenominator</th>\n",
       "      <th>Score</th>\n",
       "      <th>Time</th>\n",
       "      <th>Summary</th>\n",
       "      <th>Text</th>\n",
       "      <th>CleanedText</th>\n",
       "      <th>WordCount</th>\n",
       "    </tr>\n",
       "  </thead>\n",
       "  <tbody>\n",
       "    <tr>\n",
       "      <th>0</th>\n",
       "      <td>138706</td>\n",
       "      <td>150524</td>\n",
       "      <td>0006641040</td>\n",
       "      <td>ACITT7DI6IDDL</td>\n",
       "      <td>shari zychinski</td>\n",
       "      <td>0</td>\n",
       "      <td>0</td>\n",
       "      <td>positive</td>\n",
       "      <td>939340800</td>\n",
       "      <td>EVERY book is educational</td>\n",
       "      <td>this witty little book makes my son laugh at l...</td>\n",
       "      <td>b'witti littl book make son laugh loud recit c...</td>\n",
       "      <td>35</td>\n",
       "    </tr>\n",
       "    <tr>\n",
       "      <th>1</th>\n",
       "      <td>138688</td>\n",
       "      <td>150506</td>\n",
       "      <td>0006641040</td>\n",
       "      <td>A2IW4PEEKO2R0U</td>\n",
       "      <td>Tracy</td>\n",
       "      <td>1</td>\n",
       "      <td>1</td>\n",
       "      <td>positive</td>\n",
       "      <td>1194739200</td>\n",
       "      <td>Love the book, miss the hard cover version</td>\n",
       "      <td>I grew up reading these Sendak books, and watc...</td>\n",
       "      <td>b'grew read sendak book watch realli rosi movi...</td>\n",
       "      <td>27</td>\n",
       "    </tr>\n",
       "    <tr>\n",
       "      <th>2</th>\n",
       "      <td>138689</td>\n",
       "      <td>150507</td>\n",
       "      <td>0006641040</td>\n",
       "      <td>A1S4A3IQ2MU7V4</td>\n",
       "      <td>sally sue \"sally sue\"</td>\n",
       "      <td>1</td>\n",
       "      <td>1</td>\n",
       "      <td>positive</td>\n",
       "      <td>1191456000</td>\n",
       "      <td>chicken soup with rice months</td>\n",
       "      <td>This is a fun way for children to learn their ...</td>\n",
       "      <td>b'fun way children learn month year learn poem...</td>\n",
       "      <td>15</td>\n",
       "    </tr>\n",
       "    <tr>\n",
       "      <th>3</th>\n",
       "      <td>138690</td>\n",
       "      <td>150508</td>\n",
       "      <td>0006641040</td>\n",
       "      <td>AZGXZ2UUK6X</td>\n",
       "      <td>Catherine Hallberg \"(Kate)\"</td>\n",
       "      <td>1</td>\n",
       "      <td>1</td>\n",
       "      <td>positive</td>\n",
       "      <td>1076025600</td>\n",
       "      <td>a good swingy rhythm for reading aloud</td>\n",
       "      <td>This is a great little book to read aloud- it ...</td>\n",
       "      <td>b'great littl book read nice rhythm well good ...</td>\n",
       "      <td>50</td>\n",
       "    </tr>\n",
       "    <tr>\n",
       "      <th>4</th>\n",
       "      <td>138691</td>\n",
       "      <td>150509</td>\n",
       "      <td>0006641040</td>\n",
       "      <td>A3CMRKGE0P909G</td>\n",
       "      <td>Teresa</td>\n",
       "      <td>3</td>\n",
       "      <td>4</td>\n",
       "      <td>positive</td>\n",
       "      <td>1018396800</td>\n",
       "      <td>A great way to learn the months</td>\n",
       "      <td>This is a book of poetry about the months of t...</td>\n",
       "      <td>b'book poetri month year goe month cute littl ...</td>\n",
       "      <td>37</td>\n",
       "    </tr>\n",
       "  </tbody>\n",
       "</table>\n",
       "</div>"
      ],
      "text/plain": [
       "    index      Id   ProductId          UserId                  ProfileName  \\\n",
       "0  138706  150524  0006641040   ACITT7DI6IDDL              shari zychinski   \n",
       "1  138688  150506  0006641040  A2IW4PEEKO2R0U                        Tracy   \n",
       "2  138689  150507  0006641040  A1S4A3IQ2MU7V4        sally sue \"sally sue\"   \n",
       "3  138690  150508  0006641040     AZGXZ2UUK6X  Catherine Hallberg \"(Kate)\"   \n",
       "4  138691  150509  0006641040  A3CMRKGE0P909G                       Teresa   \n",
       "\n",
       "   HelpfulnessNumerator  HelpfulnessDenominator     Score        Time  \\\n",
       "0                     0                       0  positive   939340800   \n",
       "1                     1                       1  positive  1194739200   \n",
       "2                     1                       1  positive  1191456000   \n",
       "3                     1                       1  positive  1076025600   \n",
       "4                     3                       4  positive  1018396800   \n",
       "\n",
       "                                      Summary  \\\n",
       "0                   EVERY book is educational   \n",
       "1  Love the book, miss the hard cover version   \n",
       "2               chicken soup with rice months   \n",
       "3      a good swingy rhythm for reading aloud   \n",
       "4             A great way to learn the months   \n",
       "\n",
       "                                                Text  \\\n",
       "0  this witty little book makes my son laugh at l...   \n",
       "1  I grew up reading these Sendak books, and watc...   \n",
       "2  This is a fun way for children to learn their ...   \n",
       "3  This is a great little book to read aloud- it ...   \n",
       "4  This is a book of poetry about the months of t...   \n",
       "\n",
       "                                         CleanedText  WordCount  \n",
       "0  b'witti littl book make son laugh loud recit c...         35  \n",
       "1  b'grew read sendak book watch realli rosi movi...         27  \n",
       "2  b'fun way children learn month year learn poem...         15  \n",
       "3  b'great littl book read nice rhythm well good ...         50  \n",
       "4  b'book poetri month year goe month cute littl ...         37  "
      ]
     },
     "execution_count": 3,
     "metadata": {},
     "output_type": "execute_result"
    }
   ],
   "source": [
    "final_data.head()"
   ]
  },
  {
   "cell_type": "code",
   "execution_count": 4,
   "metadata": {},
   "outputs": [
    {
     "name": "stdout",
     "output_type": "stream",
     "text": [
      "(10000, 13)\n"
     ]
    },
    {
     "data": {
      "text/html": [
       "<div>\n",
       "<style>\n",
       "    .dataframe thead tr:only-child th {\n",
       "        text-align: right;\n",
       "    }\n",
       "\n",
       "    .dataframe thead th {\n",
       "        text-align: left;\n",
       "    }\n",
       "\n",
       "    .dataframe tbody tr th {\n",
       "        vertical-align: top;\n",
       "    }\n",
       "</style>\n",
       "<table border=\"1\" class=\"dataframe\">\n",
       "  <thead>\n",
       "    <tr style=\"text-align: right;\">\n",
       "      <th></th>\n",
       "      <th>index</th>\n",
       "      <th>Id</th>\n",
       "      <th>ProductId</th>\n",
       "      <th>UserId</th>\n",
       "      <th>ProfileName</th>\n",
       "      <th>HelpfulnessNumerator</th>\n",
       "      <th>HelpfulnessDenominator</th>\n",
       "      <th>Score</th>\n",
       "      <th>Time</th>\n",
       "      <th>Summary</th>\n",
       "      <th>Text</th>\n",
       "      <th>CleanedText</th>\n",
       "      <th>WordCount</th>\n",
       "    </tr>\n",
       "  </thead>\n",
       "  <tbody>\n",
       "    <tr>\n",
       "      <th>299</th>\n",
       "      <td>346105</td>\n",
       "      <td>374411</td>\n",
       "      <td>B00004CI84</td>\n",
       "      <td>A1CAA94EOP0J2S</td>\n",
       "      <td>Travis J Smith</td>\n",
       "      <td>4</td>\n",
       "      <td>4</td>\n",
       "      <td>positive</td>\n",
       "      <td>1036022400</td>\n",
       "      <td>Great Comedy</td>\n",
       "      <td>Beetlejuice is the story of ghosts (Alec Baldw...</td>\n",
       "      <td>b'beetlejuic stori ghost alec baldwin geena da...</td>\n",
       "      <td>76</td>\n",
       "    </tr>\n",
       "    <tr>\n",
       "      <th>3010</th>\n",
       "      <td>223527</td>\n",
       "      <td>242382</td>\n",
       "      <td>B0000CNU0A</td>\n",
       "      <td>ALYOQ8324079Y</td>\n",
       "      <td>Maddi Hausmann Sojourner \"madhaus\"</td>\n",
       "      <td>9</td>\n",
       "      <td>9</td>\n",
       "      <td>positive</td>\n",
       "      <td>1070236800</td>\n",
       "      <td>instant Japanese soup base</td>\n",
       "      <td>Not as quick as those classic Herb-ox cubes, b...</td>\n",
       "      <td>b'quick classic cube stuff give authent japane...</td>\n",
       "      <td>38</td>\n",
       "    </tr>\n",
       "    <tr>\n",
       "      <th>3348</th>\n",
       "      <td>408080</td>\n",
       "      <td>441319</td>\n",
       "      <td>B0000D9N17</td>\n",
       "      <td>A3OMD9I5JK8NFE</td>\n",
       "      <td>baby test</td>\n",
       "      <td>29</td>\n",
       "      <td>34</td>\n",
       "      <td>positive</td>\n",
       "      <td>1071100800</td>\n",
       "      <td>A great way to learn about different flavors</td>\n",
       "      <td>This is a great way of learning about differen...</td>\n",
       "      <td>b'great way learn differ chees flavor gorgonzo...</td>\n",
       "      <td>60</td>\n",
       "    </tr>\n",
       "    <tr>\n",
       "      <th>5365</th>\n",
       "      <td>94024</td>\n",
       "      <td>102216</td>\n",
       "      <td>B0000GH6UG</td>\n",
       "      <td>A1J2NULS2YDNAQ</td>\n",
       "      <td>Matt Cromwell</td>\n",
       "      <td>8</td>\n",
       "      <td>12</td>\n",
       "      <td>positive</td>\n",
       "      <td>1073692800</td>\n",
       "      <td>Chocolate Like You've Never Had It!</td>\n",
       "      <td>I was first turned onto this chocolate when I ...</td>\n",
       "      <td>b'first turn onto chocol visit privat mexican ...</td>\n",
       "      <td>98</td>\n",
       "    </tr>\n",
       "    <tr>\n",
       "      <th>4172</th>\n",
       "      <td>195834</td>\n",
       "      <td>212291</td>\n",
       "      <td>B0000DGFAC</td>\n",
       "      <td>A18OE4IVSZMZ8E</td>\n",
       "      <td>Sheri Johnson \"sherilees\"</td>\n",
       "      <td>31</td>\n",
       "      <td>34</td>\n",
       "      <td>negative</td>\n",
       "      <td>1075420800</td>\n",
       "      <td>Would I have bought if had seen?</td>\n",
       "      <td>The plant is very healthy. It arrived quickly ...</td>\n",
       "      <td>b'plant healthi arriv quick good shape disappo...</td>\n",
       "      <td>26</td>\n",
       "    </tr>\n",
       "  </tbody>\n",
       "</table>\n",
       "</div>"
      ],
      "text/plain": [
       "       index      Id   ProductId          UserId  \\\n",
       "299   346105  374411  B00004CI84  A1CAA94EOP0J2S   \n",
       "3010  223527  242382  B0000CNU0A   ALYOQ8324079Y   \n",
       "3348  408080  441319  B0000D9N17  A3OMD9I5JK8NFE   \n",
       "5365   94024  102216  B0000GH6UG  A1J2NULS2YDNAQ   \n",
       "4172  195834  212291  B0000DGFAC  A18OE4IVSZMZ8E   \n",
       "\n",
       "                             ProfileName  HelpfulnessNumerator  \\\n",
       "299                       Travis J Smith                     4   \n",
       "3010  Maddi Hausmann Sojourner \"madhaus\"                     9   \n",
       "3348                           baby test                    29   \n",
       "5365                       Matt Cromwell                     8   \n",
       "4172           Sheri Johnson \"sherilees\"                    31   \n",
       "\n",
       "      HelpfulnessDenominator     Score        Time  \\\n",
       "299                        4  positive  1036022400   \n",
       "3010                       9  positive  1070236800   \n",
       "3348                      34  positive  1071100800   \n",
       "5365                      12  positive  1073692800   \n",
       "4172                      34  negative  1075420800   \n",
       "\n",
       "                                           Summary  \\\n",
       "299                                   Great Comedy   \n",
       "3010                    instant Japanese soup base   \n",
       "3348  A great way to learn about different flavors   \n",
       "5365           Chocolate Like You've Never Had It!   \n",
       "4172              Would I have bought if had seen?   \n",
       "\n",
       "                                                   Text  \\\n",
       "299   Beetlejuice is the story of ghosts (Alec Baldw...   \n",
       "3010  Not as quick as those classic Herb-ox cubes, b...   \n",
       "3348  This is a great way of learning about differen...   \n",
       "5365  I was first turned onto this chocolate when I ...   \n",
       "4172  The plant is very healthy. It arrived quickly ...   \n",
       "\n",
       "                                            CleanedText  WordCount  \n",
       "299   b'beetlejuic stori ghost alec baldwin geena da...         76  \n",
       "3010  b'quick classic cube stuff give authent japane...         38  \n",
       "3348  b'great way learn differ chees flavor gorgonzo...         60  \n",
       "5365  b'first turn onto chocol visit privat mexican ...         98  \n",
       "4172  b'plant healthi arriv quick good shape disappo...         26  "
      ]
     },
     "execution_count": 4,
     "metadata": {},
     "output_type": "execute_result"
    }
   ],
   "source": [
    "#Sampling the data points\n",
    "i = np.random.choice(np.arange(final_data.shape[0]), 10000, replace=False)\n",
    "sampled_data = final_data.loc[i]\n",
    "print(sampled_data.shape)\n",
    "#sorting the values based on time\n",
    "sampled_data=sampled_data.sort_values(by=['Time'])\n",
    "sampled_data.head()"
   ]
  },
  {
   "cell_type": "code",
   "execution_count": 5,
   "metadata": {},
   "outputs": [
    {
     "name": "stdout",
     "output_type": "stream",
     "text": [
      "(10000, 20908)\n"
     ]
    }
   ],
   "source": [
    "#Bow\n",
    "bow_vectors=CountVectorizer().fit_transform(sampled_data['Text'].values)\n",
    "print(bow_vectors.shape)"
   ]
  },
  {
   "cell_type": "code",
   "execution_count": 6,
   "metadata": {
    "collapsed": true
   },
   "outputs": [],
   "source": [
    "final_bow=bow_vectors.toarray()#converting into numpy array \n",
    "labels=sampled_data['Score']"
   ]
  },
  {
   "cell_type": "markdown",
   "metadata": {},
   "source": [
    "**Applying k-NN on Bag Of Words vectors using brute force algorithm  **"
   ]
  },
  {
   "cell_type": "code",
   "execution_count": 7,
   "metadata": {
    "collapsed": true
   },
   "outputs": [],
   "source": [
    "#final_bow is the vector converted from text using technique Bag Of Words\n",
    "#labels is the class label\n",
    "#Splitting the data set into train and test\n",
    "X_1, X_test, Y_1, Y_test = cross_validation.train_test_split(final_bow, labels, test_size=0.3, random_state=0)\n",
    "#10-fold cross validation\n",
    "\n",
    "# creating odd list of K for KNN\n",
    "myList = list(range(0,30))\n",
    "neighbors = list(filter(lambda x: x % 2 != 0, myList))\n",
    "\n",
    "cv_scores=[]\n",
    "\n"
   ]
  },
  {
   "cell_type": "code",
   "execution_count": 8,
   "metadata": {
    "collapsed": true
   },
   "outputs": [],
   "source": [
    "for i in neighbors:\n",
    "    knn=KNeighborsClassifier(n_neighbors=i,algorithm='brute')\n",
    "    scores=cross_val_score(knn, X_1 , Y_1 , cv=10 , scoring='accuracy')#cross_val_scores returns 10 scores.\n",
    "    cv_scores.append(scores.mean())\n"
   ]
  },
  {
   "cell_type": "code",
   "execution_count": 11,
   "metadata": {},
   "outputs": [
    {
     "name": "stdout",
     "output_type": "stream",
     "text": [
      "[0.806713391251819, 0.83457054460461, 0.8421425868799151, 0.8434285072884988, 0.8427138128270233, 0.8432858545192365, 0.8432858539361451, 0.8437144259478082, 0.8437144259478082, 0.843714425947808, 0.8435717731785459, 0.843714630321403, 0.8435717731785457, 0.8431432017499745, 0.8431432017499745]\n"
     ]
    },
    {
     "data": {
      "image/png": "[encoded data removed]",
      "text/plain": [
       "<matplotlib.figure.Figure at 0x196a6c7b550>"
      ]
     },
     "metadata": {},
     "output_type": "display_data"
    },
    {
     "name": "stdout",
     "output_type": "stream",
     "text": [
      "\n",
      "The optimal number of neighbors is 23.\n",
      "the misclassification error for each k value is :  [0.193 0.165 0.158 0.157 0.157 0.157 0.157 0.156 0.156 0.156 0.156 0.156\n",
      " 0.156 0.157 0.157]\n"
     ]
    }
   ],
   "source": [
    "print(cv_scores)\n",
    "# changing to misclassification error   \n",
    "MSE = [1-x for x in cv_scores] \n",
    "\n",
    "# plot misclassification error vs k \n",
    "plt.plot(neighbors, MSE)\n",
    "\n",
    "for xy in zip(neighbors, np.round(MSE,3)):\n",
    "    plt.annotate('(%s, %s)' % xy, xy=xy, textcoords='data')\n",
    "\n",
    "plt.xlabel('Number of Neighbors K')\n",
    "plt.ylabel('Misclassification Error')\n",
    "plt.show()\n",
    "\n",
    "#computing optimal k\n",
    "optimal_k=neighbors[MSE.index(min(MSE))]\n",
    "\n",
    "print('\\nThe optimal number of neighbors is %d.' % optimal_k)\n",
    "\n",
    "\n",
    "print(\"the misclassification error for each k value is : \", np.round(MSE,3))"
   ]
  },
  {
   "cell_type": "code",
   "execution_count": 10,
   "metadata": {},
   "outputs": [
    {
     "name": "stdout",
     "output_type": "stream",
     "text": [
      "\n",
      "The accuracy of the knn classifier for k = 23 is 83.266667%\n"
     ]
    }
   ],
   "source": [
    "# instantiate learning model k = optimal_k\n",
    "knn_optimal = KNeighborsClassifier(n_neighbors=optimal_k)\n",
    "\n",
    "# fitting the model\n",
    "knn_optimal.fit(X_1, Y_1)\n",
    "\n",
    "# predict the response\n",
    "pred = knn_optimal.predict(X_test)\n",
    "\n",
    "# evaluate accuracy\n",
    "acc = accuracy_score(Y_test, pred) * 100\n",
    "print('\\nThe accuracy of the knn classifier for k = %d is %f%%' % (optimal_k, acc))"
   ]
  },
  {
   "cell_type": "code",
   "execution_count": 23,
   "metadata": {},
   "outputs": [
    {
     "name": "stdout",
     "output_type": "stream",
     "text": [
      "(4000, 13)\n"
     ]
    },
    {
     "data": {
      "text/html": [
       "<div>\n",
       "<style>\n",
       "    .dataframe thead tr:only-child th {\n",
       "        text-align: right;\n",
       "    }\n",
       "\n",
       "    .dataframe thead th {\n",
       "        text-align: left;\n",
       "    }\n",
       "\n",
       "    .dataframe tbody tr th {\n",
       "        vertical-align: top;\n",
       "    }\n",
       "</style>\n",
       "<table border=\"1\" class=\"dataframe\">\n",
       "  <thead>\n",
       "    <tr style=\"text-align: right;\">\n",
       "      <th></th>\n",
       "      <th>index</th>\n",
       "      <th>Id</th>\n",
       "      <th>ProductId</th>\n",
       "      <th>UserId</th>\n",
       "      <th>ProfileName</th>\n",
       "      <th>HelpfulnessNumerator</th>\n",
       "      <th>HelpfulnessDenominator</th>\n",
       "      <th>Score</th>\n",
       "      <th>Time</th>\n",
       "      <th>Summary</th>\n",
       "      <th>Text</th>\n",
       "      <th>CleanedText</th>\n",
       "      <th>WordCount</th>\n",
       "    </tr>\n",
       "  </thead>\n",
       "  <tbody>\n",
       "    <tr>\n",
       "      <th>241</th>\n",
       "      <td>1146</td>\n",
       "      <td>1245</td>\n",
       "      <td>B00002Z754</td>\n",
       "      <td>A29Z5PI9BW2PU3</td>\n",
       "      <td>Robbie</td>\n",
       "      <td>7</td>\n",
       "      <td>7</td>\n",
       "      <td>positive</td>\n",
       "      <td>961718400</td>\n",
       "      <td>Great Product</td>\n",
       "      <td>This was a really good idea and the final prod...</td>\n",
       "      <td>b'realli good idea final product outstand use ...</td>\n",
       "      <td>17</td>\n",
       "    </tr>\n",
       "    <tr>\n",
       "      <th>5907</th>\n",
       "      <td>61299</td>\n",
       "      <td>66610</td>\n",
       "      <td>B0000SY9U4</td>\n",
       "      <td>A3EEDHNHI4WNSH</td>\n",
       "      <td>Joanna J. Young</td>\n",
       "      <td>23</td>\n",
       "      <td>23</td>\n",
       "      <td>positive</td>\n",
       "      <td>1067472000</td>\n",
       "      <td>Yummy</td>\n",
       "      <td>If you've never tried Kona coffee, Aloha Islan...</td>\n",
       "      <td>b'youv never tri kona coffe aloha island defin...</td>\n",
       "      <td>85</td>\n",
       "    </tr>\n",
       "    <tr>\n",
       "      <th>6381</th>\n",
       "      <td>409953</td>\n",
       "      <td>443373</td>\n",
       "      <td>B0000U1OFU</td>\n",
       "      <td>AFKKVFJ2DS4EL</td>\n",
       "      <td>Jonathan R. Pauling</td>\n",
       "      <td>0</td>\n",
       "      <td>1</td>\n",
       "      <td>positive</td>\n",
       "      <td>1068076800</td>\n",
       "      <td>Righteous Hot Sauce</td>\n",
       "      <td>I just love this sauce. I put in on everything.</td>\n",
       "      <td>b'love sauc put everyth'</td>\n",
       "      <td>4</td>\n",
       "    </tr>\n",
       "    <tr>\n",
       "      <th>6279</th>\n",
       "      <td>250486</td>\n",
       "      <td>271595</td>\n",
       "      <td>B0000TU8VM</td>\n",
       "      <td>A3CBHCE5OH4P8V</td>\n",
       "      <td>Chris Chiquoine</td>\n",
       "      <td>5</td>\n",
       "      <td>6</td>\n",
       "      <td>positive</td>\n",
       "      <td>1068249600</td>\n",
       "      <td>Unique and delicious</td>\n",
       "      <td>A piquant, sweet, colorful treat.  Don't be pu...</td>\n",
       "      <td>b'piquant sweet color treat dont put hot desig...</td>\n",
       "      <td>18</td>\n",
       "    </tr>\n",
       "    <tr>\n",
       "      <th>5821</th>\n",
       "      <td>381398</td>\n",
       "      <td>412394</td>\n",
       "      <td>B0000SWZX2</td>\n",
       "      <td>AHRB89BJ5QF78</td>\n",
       "      <td>Helen Lenoir</td>\n",
       "      <td>3</td>\n",
       "      <td>4</td>\n",
       "      <td>positive</td>\n",
       "      <td>1069372800</td>\n",
       "      <td>loved the aroma</td>\n",
       "      <td>I can recommend this coffee. It smells like th...</td>\n",
       "      <td>b'recommend coffe smell like coffe aroma paris...</td>\n",
       "      <td>19</td>\n",
       "    </tr>\n",
       "  </tbody>\n",
       "</table>\n",
       "</div>"
      ],
      "text/plain": [
       "       index      Id   ProductId          UserId          ProfileName  \\\n",
       "241     1146    1245  B00002Z754  A29Z5PI9BW2PU3               Robbie   \n",
       "5907   61299   66610  B0000SY9U4  A3EEDHNHI4WNSH      Joanna J. Young   \n",
       "6381  409953  443373  B0000U1OFU   AFKKVFJ2DS4EL  Jonathan R. Pauling   \n",
       "6279  250486  271595  B0000TU8VM  A3CBHCE5OH4P8V      Chris Chiquoine   \n",
       "5821  381398  412394  B0000SWZX2   AHRB89BJ5QF78         Helen Lenoir   \n",
       "\n",
       "      HelpfulnessNumerator  HelpfulnessDenominator     Score        Time  \\\n",
       "241                      7                       7  positive   961718400   \n",
       "5907                    23                      23  positive  1067472000   \n",
       "6381                     0                       1  positive  1068076800   \n",
       "6279                     5                       6  positive  1068249600   \n",
       "5821                     3                       4  positive  1069372800   \n",
       "\n",
       "                   Summary                                               Text  \\\n",
       "241          Great Product  This was a really good idea and the final prod...   \n",
       "5907                 Yummy  If you've never tried Kona coffee, Aloha Islan...   \n",
       "6381   Righteous Hot Sauce    I just love this sauce. I put in on everything.   \n",
       "6279  Unique and delicious  A piquant, sweet, colorful treat.  Don't be pu...   \n",
       "5821       loved the aroma  I can recommend this coffee. It smells like th...   \n",
       "\n",
       "                                            CleanedText  WordCount  \n",
       "241   b'realli good idea final product outstand use ...         17  \n",
       "5907  b'youv never tri kona coffe aloha island defin...         85  \n",
       "6381                           b'love sauc put everyth'          4  \n",
       "6279  b'piquant sweet color treat dont put hot desig...         18  \n",
       "5821  b'recommend coffe smell like coffe aroma paris...         19  "
      ]
     },
     "execution_count": 23,
     "metadata": {},
     "output_type": "execute_result"
    }
   ],
   "source": [
    "#Sampling the data points\n",
    "i = np.random.choice(np.arange(final_data.shape[0]), 4000, replace=False)\n",
    "sampled_data = final_data.loc[i]\n",
    "print(sampled_data.shape)\n",
    "#sorting the values based on time\n",
    "sampled_data=sampled_data.sort_values(by=['Time'])\n",
    "sampled_data.head()"
   ]
  },
  {
   "cell_type": "code",
   "execution_count": 24,
   "metadata": {},
   "outputs": [
    {
     "name": "stdout",
     "output_type": "stream",
     "text": [
      "(4000, 13631)\n"
     ]
    }
   ],
   "source": [
    "#Bow\n",
    "bow_vectors=CountVectorizer().fit_transform(sampled_data['Text'].values)\n",
    "print(bow_vectors.shape)"
   ]
  },
  {
   "cell_type": "code",
   "execution_count": 25,
   "metadata": {
    "collapsed": true
   },
   "outputs": [],
   "source": [
    "final_bow=bow_vectors.toarray()#converting into numpy array \n",
    "labels=sampled_data['Score']"
   ]
  },
  {
   "cell_type": "markdown",
   "metadata": {},
   "source": [
    "**Applying k-NN on Bag Of Words vectors using kd-tree algorithm  **"
   ]
  },
  {
   "cell_type": "code",
   "execution_count": 26,
   "metadata": {
    "collapsed": true
   },
   "outputs": [],
   "source": [
    "#final_bow is the vector converted from text using technique Bag Of Words\n",
    "#labels is the class label\n",
    "#Splitting the data set into train and test\n",
    "X_1, X_test, Y_1, Y_test = cross_validation.train_test_split(final_bow, labels, test_size=0.3, random_state=0)\n",
    "#10-fold cross validation\n",
    "\n",
    "# creating odd list of K for KNN\n",
    "myList = list(range(0,30))\n",
    "neighbors = list(filter(lambda x: x % 2 != 0, myList))\n",
    "\n",
    "cv_scores=[]\n",
    "\n"
   ]
  },
  {
   "cell_type": "code",
   "execution_count": 27,
   "metadata": {
    "collapsed": true
   },
   "outputs": [],
   "source": [
    "for i in neighbors:\n",
    "    knn=KNeighborsClassifier(n_neighbors=i,algorithm='kd_tree')\n",
    "    scores=cross_val_score(knn, X_1 , Y_1 , cv=10 , scoring='accuracy')#cross_val_scores returns 10 scores.\n",
    "    cv_scores.append(scores.mean())\n"
   ]
  },
  {
   "cell_type": "code",
   "execution_count": 28,
   "metadata": {},
   "outputs": [
    {
     "name": "stdout",
     "output_type": "stream",
     "text": [
      "[0.8121503144172758, 0.8307104135803481, 0.8403609967692736, 0.8453636024876412, 0.8450038994666477, 0.8450039085775511, 0.8446429436964393, 0.8450013666355074, 0.8450013666355074, 0.8453597804636722, 0.8453597804636722, 0.8453597804636722, 0.8450026376065294, 0.8453597804636722, 0.8457182034027403]\n"
     ]
    },
    {
     "data": {
      "image/png": "[encoded data removed]",
      "text/plain": [
       "<matplotlib.figure.Figure at 0x1f5de7b6e48>"
      ]
     },
     "metadata": {},
     "output_type": "display_data"
    },
    {
     "name": "stdout",
     "output_type": "stream",
     "text": [
      "\n",
      "The optimal number of neighbors is 29.\n",
      "the misclassification error for each k value is :  [0.188 0.169 0.16  0.155 0.155 0.155 0.155 0.155 0.155 0.155 0.155 0.155\n",
      " 0.155 0.155 0.154]\n"
     ]
    }
   ],
   "source": [
    "print(cv_scores)\n",
    "#changing to misclassification error   \n",
    "MSE = [1-x for x in cv_scores] \n",
    "\n",
    "# plot misclassification error vs k \n",
    "plt.plot(neighbors, MSE)\n",
    "\n",
    "for xy in zip(neighbors, np.round(MSE,3)):\n",
    "    plt.annotate('(%s, %s)' % xy, xy=xy, textcoords='data')\n",
    "\n",
    "plt.xlabel('Number of Neighbors K')\n",
    "plt.ylabel('Misclassification Error')\n",
    "plt.show()\n",
    "\n",
    "#computing optimal k\n",
    "optimal_k=neighbors[MSE.index(min(MSE))]\n",
    "\n",
    "print('\\nThe optimal number of neighbors is %d.' % optimal_k)\n",
    "\n",
    "\n",
    "print(\"the misclassification error for each k value is : \", np.round(MSE,3))"
   ]
  },
  {
   "cell_type": "code",
   "execution_count": 29,
   "metadata": {},
   "outputs": [
    {
     "name": "stdout",
     "output_type": "stream",
     "text": [
      "\n",
      "The accuracy of the knn classifier for k = 29 is 85.250000%\n"
     ]
    }
   ],
   "source": [
    "# instantiate learning model k = optimal_k\n",
    "knn_optimal = KNeighborsClassifier(n_neighbors=optimal_k)\n",
    "\n",
    "# fitting the model\n",
    "knn_optimal.fit(X_1, Y_1)\n",
    "\n",
    "# predict the response\n",
    "pred = knn_optimal.predict(X_test)\n",
    "\n",
    "# evaluate accuracy\n",
    "acc = accuracy_score(Y_test, pred) * 100\n",
    "print('\\nThe accuracy of the knn classifier for k = %d is %f%%' % (optimal_k, acc))"
   ]
  },
  {
   "cell_type": "markdown",
   "metadata": {},
   "source": [
    "**INFERENCE**\n",
    "\n",
    "*It seems that kd_tree algorithm has more accuracy than brute force in Bag Of Words vectors.*"
   ]
  },
  {
   "cell_type": "markdown",
   "metadata": {},
   "source": [
    "**TF-IDF**"
   ]
  },
  {
   "cell_type": "code",
   "execution_count": 4,
   "metadata": {},
   "outputs": [
    {
     "name": "stdout",
     "output_type": "stream",
     "text": [
      "(3000, 13)\n"
     ]
    },
    {
     "data": {
      "text/html": [
       "<div>\n",
       "<style>\n",
       "    .dataframe thead tr:only-child th {\n",
       "        text-align: right;\n",
       "    }\n",
       "\n",
       "    .dataframe thead th {\n",
       "        text-align: left;\n",
       "    }\n",
       "\n",
       "    .dataframe tbody tr th {\n",
       "        vertical-align: top;\n",
       "    }\n",
       "</style>\n",
       "<table border=\"1\" class=\"dataframe\">\n",
       "  <thead>\n",
       "    <tr style=\"text-align: right;\">\n",
       "      <th></th>\n",
       "      <th>index</th>\n",
       "      <th>Id</th>\n",
       "      <th>ProductId</th>\n",
       "      <th>UserId</th>\n",
       "      <th>ProfileName</th>\n",
       "      <th>HelpfulnessNumerator</th>\n",
       "      <th>HelpfulnessDenominator</th>\n",
       "      <th>Score</th>\n",
       "      <th>Time</th>\n",
       "      <th>Summary</th>\n",
       "      <th>Text</th>\n",
       "      <th>CleanedText</th>\n",
       "      <th>WordCount</th>\n",
       "    </tr>\n",
       "  </thead>\n",
       "  <tbody>\n",
       "    <tr>\n",
       "      <th>6922</th>\n",
       "      <td>475739</td>\n",
       "      <td>514467</td>\n",
       "      <td>B0000VZ0F4</td>\n",
       "      <td>A2GANR9I6XHTU9</td>\n",
       "      <td>Amy Lynn</td>\n",
       "      <td>5</td>\n",
       "      <td>5</td>\n",
       "      <td>positive</td>\n",
       "      <td>1081209600</td>\n",
       "      <td>Starbucks is the best</td>\n",
       "      <td>So far ive tried the breakfest blend, columbia...</td>\n",
       "      <td>b'far ive tri breakfest blend columbian sumatr...</td>\n",
       "      <td>57</td>\n",
       "    </tr>\n",
       "    <tr>\n",
       "      <th>7814</th>\n",
       "      <td>351808</td>\n",
       "      <td>380554</td>\n",
       "      <td>B00014DXCC</td>\n",
       "      <td>A3OJ5D1THAJKYY</td>\n",
       "      <td>Southern Belle</td>\n",
       "      <td>0</td>\n",
       "      <td>5</td>\n",
       "      <td>negative</td>\n",
       "      <td>1084665600</td>\n",
       "      <td>Add honey?</td>\n",
       "      <td>Are you supposed to avoid sugars if you have a...</td>\n",
       "      <td>b'suppos avoid sugar urinari tract infect'</td>\n",
       "      <td>6</td>\n",
       "    </tr>\n",
       "    <tr>\n",
       "      <th>16037</th>\n",
       "      <td>413263</td>\n",
       "      <td>446947</td>\n",
       "      <td>B0002HMAEA</td>\n",
       "      <td>A31OKMZS1A8ZVL</td>\n",
       "      <td>Hugo Darien \"Daniel\"</td>\n",
       "      <td>0</td>\n",
       "      <td>10</td>\n",
       "      <td>positive</td>\n",
       "      <td>1092355200</td>\n",
       "      <td>good</td>\n",
       "      <td>this information is good i just wonder is this...</td>\n",
       "      <td>b'inform good wonder best medicin herb earth o...</td>\n",
       "      <td>13</td>\n",
       "    </tr>\n",
       "    <tr>\n",
       "      <th>2681</th>\n",
       "      <td>494235</td>\n",
       "      <td>534333</td>\n",
       "      <td>B0000CEQ72</td>\n",
       "      <td>A281NPSIMI1C2R</td>\n",
       "      <td>Rebecca of Amazon \"The Rebecca Review\"</td>\n",
       "      <td>1</td>\n",
       "      <td>1</td>\n",
       "      <td>positive</td>\n",
       "      <td>1093651200</td>\n",
       "      <td>Bob's Red Mill Whole Wheat Flour</td>\n",
       "      <td>\"We use and believe in stone milling because n...</td>\n",
       "      <td>b'use believ stone mill machineri yet develop ...</td>\n",
       "      <td>323</td>\n",
       "    </tr>\n",
       "    <tr>\n",
       "      <th>22819</th>\n",
       "      <td>28673</td>\n",
       "      <td>31272</td>\n",
       "      <td>B0006NWEGE</td>\n",
       "      <td>A3OUXR87W8IMCA</td>\n",
       "      <td>L. Spadafora \"Lori\"</td>\n",
       "      <td>2</td>\n",
       "      <td>2</td>\n",
       "      <td>positive</td>\n",
       "      <td>1104019200</td>\n",
       "      <td>This is the greatest!</td>\n",
       "      <td>I gave this to my brother for Christmas and it...</td>\n",
       "      <td>b'gave brother christma big hit instrument wel...</td>\n",
       "      <td>31</td>\n",
       "    </tr>\n",
       "  </tbody>\n",
       "</table>\n",
       "</div>"
      ],
      "text/plain": [
       "        index      Id   ProductId          UserId  \\\n",
       "6922   475739  514467  B0000VZ0F4  A2GANR9I6XHTU9   \n",
       "7814   351808  380554  B00014DXCC  A3OJ5D1THAJKYY   \n",
       "16037  413263  446947  B0002HMAEA  A31OKMZS1A8ZVL   \n",
       "2681   494235  534333  B0000CEQ72  A281NPSIMI1C2R   \n",
       "22819   28673   31272  B0006NWEGE  A3OUXR87W8IMCA   \n",
       "\n",
       "                                  ProfileName  HelpfulnessNumerator  \\\n",
       "6922                                 Amy Lynn                     5   \n",
       "7814                           Southern Belle                     0   \n",
       "16037                    Hugo Darien \"Daniel\"                     0   \n",
       "2681   Rebecca of Amazon \"The Rebecca Review\"                     1   \n",
       "22819                     L. Spadafora \"Lori\"                     2   \n",
       "\n",
       "       HelpfulnessDenominator     Score        Time  \\\n",
       "6922                        5  positive  1081209600   \n",
       "7814                        5  negative  1084665600   \n",
       "16037                      10  positive  1092355200   \n",
       "2681                        1  positive  1093651200   \n",
       "22819                       2  positive  1104019200   \n",
       "\n",
       "                                Summary  \\\n",
       "6922              Starbucks is the best   \n",
       "7814                         Add honey?   \n",
       "16037                              good   \n",
       "2681   Bob's Red Mill Whole Wheat Flour   \n",
       "22819             This is the greatest!   \n",
       "\n",
       "                                                    Text  \\\n",
       "6922   So far ive tried the breakfest blend, columbia...   \n",
       "7814   Are you supposed to avoid sugars if you have a...   \n",
       "16037  this information is good i just wonder is this...   \n",
       "2681   \"We use and believe in stone milling because n...   \n",
       "22819  I gave this to my brother for Christmas and it...   \n",
       "\n",
       "                                             CleanedText  WordCount  \n",
       "6922   b'far ive tri breakfest blend columbian sumatr...         57  \n",
       "7814          b'suppos avoid sugar urinari tract infect'          6  \n",
       "16037  b'inform good wonder best medicin herb earth o...         13  \n",
       "2681   b'use believ stone mill machineri yet develop ...        323  \n",
       "22819  b'gave brother christma big hit instrument wel...         31  "
      ]
     },
     "execution_count": 4,
     "metadata": {},
     "output_type": "execute_result"
    }
   ],
   "source": [
    "#Sampling the data points\n",
    "i = np.random.choice(np.arange(final_data.shape[0]), 3000, replace=False)\n",
    "sampled_data = final_data.loc[i]\n",
    "print(sampled_data.shape)\n",
    "sampled_data=sampled_data.sort_values(by=['Time'])\n",
    "sampled_data.head()"
   ]
  },
  {
   "cell_type": "code",
   "execution_count": 5,
   "metadata": {},
   "outputs": [
    {
     "name": "stdout",
     "output_type": "stream",
     "text": [
      "(3000, 12021)\n"
     ]
    }
   ],
   "source": [
    "#TF-IDF\n",
    "tf_idf_vect = TfidfVectorizer(ngram_range=(1,1))\n",
    "final_tf_idf = tf_idf_vect.fit_transform(sampled_data['Text'].values)\n",
    "print(final_tf_idf.shape)\n",
    "final_tf_idf=final_tf_idf.toarray()\n",
    "labels=sampled_data['Score']"
   ]
  },
  {
   "cell_type": "code",
   "execution_count": 6,
   "metadata": {
    "collapsed": true
   },
   "outputs": [],
   "source": [
    "#final_tf_idf is the vector converted from text using technique TF-IDF\n",
    "#labels is the class label\n",
    "#Splitting the data set into train and test\n",
    "X_1, X_test, Y_1, Y_test = cross_validation.train_test_split(final_tf_idf, labels, test_size=0.3, random_state=0)\n",
    "#10-fold cross validation\n",
    "\n",
    "# creating odd list of K for KNN\n",
    "myList = list(range(0,30))\n",
    "neighbors = list(filter(lambda x: x % 2 != 0, myList))\n",
    "\n",
    "cv_scores_tf_idf=[]\n",
    "\n"
   ]
  },
  {
   "cell_type": "markdown",
   "metadata": {},
   "source": [
    "**Applying k-NN on TF-IDF vectors using brute force algorithm  **"
   ]
  },
  {
   "cell_type": "code",
   "execution_count": 7,
   "metadata": {
    "collapsed": true
   },
   "outputs": [],
   "source": [
    "for i in neighbors:\n",
    "    knn=KNeighborsClassifier(n_neighbors=i,algorithm='brute')\n",
    "    scores=cross_val_score(knn, X_1 , Y_1 , cv=10 , scoring='accuracy')#cross_val_scores returns 10 scores.\n",
    "    cv_scores_tf_idf.append(scores.mean())\n"
   ]
  },
  {
   "cell_type": "code",
   "execution_count": 8,
   "metadata": {},
   "outputs": [
    {
     "name": "stdout",
     "output_type": "stream",
     "text": [
      "[0.8052549728478888, 0.8462080880788788, 0.8466752512474637, 0.8504825830193752, 0.8476253753729435, 0.8485800347486553, 0.8481128931765001, 0.8476367027003097, 0.846201296001745, 0.8452443582027019, 0.8447681677265114, 0.8447681677265114, 0.8447681677265114, 0.8442942340772224, 0.8442942340772224]\n",
      "\n",
      "The optimal number of neighbors is 7.\n"
     ]
    },
    {
     "data": {
      "image/png": "[encoded data removed]",
      "text/plain": [
       "<matplotlib.figure.Figure at 0x22aed1d6f98>"
      ]
     },
     "metadata": {},
     "output_type": "display_data"
    },
    {
     "name": "stdout",
     "output_type": "stream",
     "text": [
      "\n",
      "the misclassification error for each k value is :  [0.195 0.154 0.153 0.15  0.152 0.151 0.152 0.152 0.154 0.155 0.155 0.155\n",
      " 0.155 0.156 0.156]\n"
     ]
    }
   ],
   "source": [
    "# changing to misclassification error   \n",
    "print(cv_scores_tf_idf)\n",
    "MSE = [1-x for x in cv_scores_tf_idf] \n",
    "\n",
    "#computing optimal k\n",
    "optimal_k=neighbors[MSE.index(min(MSE))]\n",
    "\n",
    "print('\\nThe optimal number of neighbors is %d.' % optimal_k)\n",
    "\n",
    "# plot misclassification error vs k \n",
    "plt.plot(neighbors, MSE)\n",
    "\n",
    "for xy in zip(neighbors, np.round(MSE,3)):\n",
    "    plt.annotate('(%s, %s)' % xy, xy=xy, textcoords='data')\n",
    "\n",
    "plt.xlabel('Number of Neighbors K')\n",
    "plt.ylabel('Misclassification Error')\n",
    "plt.show()\n",
    "\n",
    "\n",
    "print(\"\\nthe misclassification error for each k value is : \", np.round(MSE,3))"
   ]
  },
  {
   "cell_type": "code",
   "execution_count": 9,
   "metadata": {},
   "outputs": [
    {
     "name": "stdout",
     "output_type": "stream",
     "text": [
      "\n",
      "The accuracy of the knn classifier for k = 7 is 85.000000%\n"
     ]
    }
   ],
   "source": [
    "# instantiate learning model k = optimal_k\n",
    "knn_optimal = KNeighborsClassifier(n_neighbors=optimal_k)\n",
    "\n",
    "# fitting the model\n",
    "knn_optimal.fit(X_1, Y_1)\n",
    "\n",
    "# predict the response\n",
    "pred = knn_optimal.predict(X_test)\n",
    "\n",
    "# evaluate accuracy\n",
    "acc = accuracy_score(Y_test, pred) * 100\n",
    "print('\\nThe accuracy of the knn classifier for k = %d is %f%%' % (optimal_k, acc))"
   ]
  },
  {
   "cell_type": "code",
   "execution_count": 5,
   "metadata": {},
   "outputs": [
    {
     "name": "stdout",
     "output_type": "stream",
     "text": [
      "(3000, 11789)\n"
     ]
    }
   ],
   "source": [
    "#TF-IDF\n",
    "tf_idf_vect = TfidfVectorizer(ngram_range=(1,1))\n",
    "final_tf_idf = tf_idf_vect.fit_transform(sampled_data['Text'].values)\n",
    "print(final_tf_idf.shape)\n",
    "final_tf_idf=final_tf_idf.toarray()\n",
    "labels=sampled_data['Score']"
   ]
  },
  {
   "cell_type": "code",
   "execution_count": 6,
   "metadata": {
    "collapsed": true
   },
   "outputs": [],
   "source": [
    "#final_tf_idf is the vector converted from text using technique TF-IDF\n",
    "#labels is the class label\n",
    "#Splitting the data set into train and test\n",
    "X_1, X_test, Y_1, Y_test = cross_validation.train_test_split(final_tf_idf, labels, test_size=0.3, random_state=0)\n",
    "#10-fold cross validation\n",
    "\n",
    "# creating odd list of K for KNN\n",
    "myList = list(range(0,30))\n",
    "neighbors = list(filter(lambda x: x % 2 != 0, myList))\n",
    "\n",
    "cv_scores_tf_idf=[]\n",
    "\n"
   ]
  },
  {
   "cell_type": "markdown",
   "metadata": {},
   "source": [
    "**Applying k-NN on TF-IDF vectors using kdtree algorithm  **"
   ]
  },
  {
   "cell_type": "code",
   "execution_count": 7,
   "metadata": {
    "collapsed": true
   },
   "outputs": [],
   "source": [
    "for i in neighbors:\n",
    "    knn=KNeighborsClassifier(n_neighbors=i,algorithm='kd_tree')\n",
    "    scores=cross_val_score(knn, X_1 , Y_1 , cv=10 , scoring='accuracy')#cross_val_scores returns 10 scores.\n",
    "    cv_scores_tf_idf.append(scores.mean())\n"
   ]
  },
  {
   "cell_type": "code",
   "execution_count": 8,
   "metadata": {},
   "outputs": [
    {
     "name": "stdout",
     "output_type": "stream",
     "text": [
      "[0.7961895907368594, 0.8366818813513749, 0.8528701007149498, 0.8585912001027991, 0.8595413026318489, 0.8557204083020995, 0.8547657705228172, 0.8566705324275791, 0.8557181514751981, 0.8542895800466267, 0.8542895800466267, 0.8542895800466267, 0.8542895800466267, 0.8542895800466267, 0.8542895800466267]\n",
      "\n",
      "The optimal number of neighbors is 9.\n"
     ]
    },
    {
     "data": {
      "image/png": "[encoded data removed]",
      "text/plain": [
       "<matplotlib.figure.Figure at 0x1862fd01470>"
      ]
     },
     "metadata": {},
     "output_type": "display_data"
    },
    {
     "name": "stdout",
     "output_type": "stream",
     "text": [
      "\n",
      "the misclassification error for each k value is :  [0.204 0.163 0.147 0.141 0.14  0.144 0.145 0.143 0.144 0.146 0.146 0.146\n",
      " 0.146 0.146 0.146]\n"
     ]
    }
   ],
   "source": [
    "# changing to misclassification error   \n",
    "print(cv_scores_tf_idf)\n",
    "MSE = [1-x for x in cv_scores_tf_idf] \n",
    "\n",
    "#computing optimal k\n",
    "optimal_k=neighbors[MSE.index(min(MSE))]\n",
    "\n",
    "print('\\nThe optimal number of neighbors is %d.' % optimal_k)\n",
    "\n",
    "# plot misclassification error vs k \n",
    "plt.plot(neighbors, MSE)\n",
    "\n",
    "for xy in zip(neighbors, np.round(MSE,3)):\n",
    "    plt.annotate('(%s, %s)' % xy, xy=xy, textcoords='data')\n",
    "\n",
    "plt.xlabel('Number of Neighbors K')\n",
    "plt.ylabel('Misclassification Error')\n",
    "plt.show()\n",
    "\n",
    "\n",
    "print(\"\\nthe misclassification error for each k value is : \", np.round(MSE,3))"
   ]
  },
  {
   "cell_type": "code",
   "execution_count": 9,
   "metadata": {},
   "outputs": [
    {
     "name": "stdout",
     "output_type": "stream",
     "text": [
      "\n",
      "The accuracy of the knn classifier for k = 9 is 84.666667%\n"
     ]
    }
   ],
   "source": [
    "# instantiate learning model k = optimal_k\n",
    "knn_optimal = KNeighborsClassifier(n_neighbors=optimal_k)\n",
    "\n",
    "# fitting the model\n",
    "knn_optimal.fit(X_1, Y_1)\n",
    "\n",
    "# predict the response\n",
    "pred = knn_optimal.predict(X_test)\n",
    "\n",
    "# evaluate accuracy\n",
    "acc = accuracy_score(Y_test, pred) * 100\n",
    "print('\\nThe accuracy of the knn classifier for k = %d is %f%%' % (optimal_k, acc))"
   ]
  },
  {
   "cell_type": "markdown",
   "metadata": {},
   "source": [
    "**INFERENCE**\n",
    "\n",
    "*It seems that brute force algorithm has almost same accuracy as kd tree in TF-IDF vectors.*"
   ]
  },
  {
   "cell_type": "markdown",
   "metadata": {},
   "source": [
    "**Applying k-NN on W2V vectors using brute force algorithm**"
   ]
  },
  {
   "cell_type": "code",
   "execution_count": 5,
   "metadata": {},
   "outputs": [
    {
     "name": "stdout",
     "output_type": "stream",
     "text": [
      "(10000, 13)\n"
     ]
    }
   ],
   "source": [
    "#Sampling the data points\n",
    "i = np.random.choice(np.arange(final_data.shape[0]), 10000, replace=False)\n",
    "sampled_data_w2v = final_data.loc[i]\n",
    "print(sampled_data_w2v.shape)\n",
    "sampled_data_w2v=sampled_data_w2v.sort_values(by=['Time'])\n",
    "sampled_data_w2v.head()\n",
    "labels=sampled_data_w2v['Score']"
   ]
  },
  {
   "cell_type": "code",
   "execution_count": 6,
   "metadata": {
    "collapsed": true
   },
   "outputs": [],
   "source": [
    "import re\n",
    "import string\n",
    "from nltk.corpus import stopwords\n",
    "from nltk.stem import PorterStemmer\n",
    "from nltk.stem.wordnet import WordNetLemmatizer\n",
    "\n",
    "stop = set(stopwords.words('english')) #set of stopwords\n",
    "sno = nltk.stem.SnowballStemmer('english') #initialising the snowball stemmer\n",
    "\n",
    "def cleanhtml(sentence): #function to clean the word of any html-tags\n",
    "    cleanr = re.compile('<.*?>')\n",
    "    cleantext = re.sub(cleanr, ' ', sentence)\n",
    "    return cleantext\n",
    "def cleanpunc(sentence): #function to clean the word of any punctuation or special characters\n",
    "    cleaned = re.sub(r'[?|!|\\'|\"|#]',r'',sentence)\n",
    "    cleaned = re.sub(r'[.|,|)|(|\\|/]',r' ',cleaned)\n",
    "    return  cleaned\n"
   ]
  },
  {
   "cell_type": "code",
   "execution_count": 7,
   "metadata": {},
   "outputs": [
    {
     "name": "stderr",
     "output_type": "stream",
     "text": [
      "C:\\Users\\tulasi ram\\Anaconda3\\lib\\site-packages\\gensim\\utils.py:860: UserWarning: detected Windows; aliasing chunkize to chunkize_serial\n",
      "  warnings.warn(\"detected Windows; aliasing chunkize to chunkize_serial\")\n"
     ]
    }
   ],
   "source": [
    "\n",
    "# Train our own Word2Vec model using our own text corpus\n",
    "# cleaning the word of any html-tags\n",
    "#cleaning the word of any punctuation or special characters\n",
    "import gensim\n",
    "i=0\n",
    "list_of_sent=[]\n",
    "for sent in sampled_data_w2v['Text'].values:\n",
    "    filtered_sentence=[]\n",
    "    sent=cleanhtml(sent)\n",
    "    for w in sent.split():\n",
    "        for cleaned_words in cleanpunc(w).split():\n",
    "            if(cleaned_words.isalpha()):    \n",
    "                filtered_sentence.append(cleaned_words.lower())\n",
    "            else:\n",
    "                continue \n",
    "    list_of_sent.append(filtered_sentence)\n",
    "    "
   ]
  },
  {
   "cell_type": "code",
   "execution_count": 8,
   "metadata": {
    "collapsed": true
   },
   "outputs": [],
   "source": [
    "#Word2Vec\n",
    "w2v_model=gensim.models.Word2Vec(list_of_sent,min_count=5,size=50, workers=4)    \n"
   ]
  },
  {
   "cell_type": "code",
   "execution_count": 9,
   "metadata": {
    "collapsed": true
   },
   "outputs": [],
   "source": [
    "#AvgW2V Model\n",
    "sent_vectors = []; \n",
    "for sent in list_of_sent: \n",
    "    sent_vec = np.zeros(50) \n",
    "    cnt_words =0; \n",
    "    for word in sent:\n",
    "        try:\n",
    "            vec = w2v_model.wv[word]\n",
    "            sent_vec += vec\n",
    "            cnt_words += 1\n",
    "        except:\n",
    "            pass\n",
    "    sent_vec /= cnt_words\n",
    "    sent_vectors.append(sent_vec)"
   ]
  },
  {
   "cell_type": "code",
   "execution_count": 10,
   "metadata": {
    "collapsed": true
   },
   "outputs": [],
   "source": [
    "#sent_vectors is the vector converted from text using technique Word2Vec\n",
    "#labels is the class label\n",
    "#Splitting the data set into train and test\n",
    "X_1, X_test, Y_1, Y_test = cross_validation.train_test_split(sent_vectors, labels, test_size=0.3, random_state=0)\n",
    "#10-fold cross validation\n",
    "\n",
    "# creating odd list of K for KNN\n",
    "myList = list(range(0,30))\n",
    "neighbors = list(filter(lambda x: x % 2 != 0, myList))\n",
    "\n",
    "cv_scores_w2v=[]\n",
    "\n"
   ]
  },
  {
   "cell_type": "code",
   "execution_count": 11,
   "metadata": {
    "collapsed": true
   },
   "outputs": [],
   "source": [
    "for i in neighbors:\n",
    "    knn=KNeighborsClassifier(n_neighbors=i,algorithm='brute')\n",
    "    scores=cross_val_score(knn, X_1 , Y_1 , cv=10 , scoring='accuracy')#cross_val_scores returns 10 scores.\n",
    "    cv_scores_w2v.append(scores.mean())"
   ]
  },
  {
   "cell_type": "code",
   "execution_count": 12,
   "metadata": {},
   "outputs": [
    {
     "name": "stdout",
     "output_type": "stream",
     "text": [
      "[0.7774280119522109, 0.8204266443109359, 0.8342872807612143, 0.8428579035000947, 0.8458581125384221, 0.8481421988324758, 0.8477132198228977, 0.8495715906708847, 0.8492856714284839, 0.8481430163268554, 0.8477132192398061, 0.8467146469395127, 0.8475717915459302, 0.847857506414736, 0.8475715877554271]\n"
     ]
    },
    {
     "data": {
      "image/png": "[encoded data removed]",
      "text/plain": [
       "<matplotlib.figure.Figure at 0x19f149e1198>"
      ]
     },
     "metadata": {},
     "output_type": "display_data"
    },
    {
     "name": "stdout",
     "output_type": "stream",
     "text": [
      "\n",
      "The optimal number of neighbors is 15.\n",
      "\n",
      "the misclassification error for each k value is :  [0.223 0.18  0.166 0.157 0.154 0.152 0.152 0.15  0.151 0.152 0.152 0.153\n",
      " 0.152 0.152 0.152]\n"
     ]
    }
   ],
   "source": [
    "# changing to misclassification error\n",
    "print(cv_scores_w2v)\n",
    "MSE = [1-x for x in cv_scores_w2v] \n",
    "# plot misclassification error vs k \n",
    "plt.plot(neighbors, MSE)\n",
    "\n",
    "for xy in zip(neighbors, np.round(MSE,3)):\n",
    "    plt.annotate('(%s, %s)' % xy, xy=xy, textcoords='data')\n",
    "\n",
    "plt.xlabel('Number of Neighbors K')\n",
    "plt.ylabel('Misclassification Error')\n",
    "plt.show()\n",
    "\n",
    "#computing optimal k\n",
    "optimal_k=neighbors[MSE.index(min(MSE))]\n",
    "\n",
    "print('\\nThe optimal number of neighbors is %d.' % optimal_k)\n",
    "\n",
    "\n",
    "print(\"\\nthe misclassification error for each k value is : \", np.round(MSE,3))"
   ]
  },
  {
   "cell_type": "code",
   "execution_count": 13,
   "metadata": {},
   "outputs": [
    {
     "name": "stdout",
     "output_type": "stream",
     "text": [
      "\n",
      "The accuracy of the knn classifier for k = 15 is 85.433333%\n"
     ]
    }
   ],
   "source": [
    "# instantiate learning model k = optimal_k\n",
    "knn_optimal = KNeighborsClassifier(n_neighbors=optimal_k)\n",
    "\n",
    "# fitting the model\n",
    "knn_optimal.fit(X_1, Y_1)\n",
    "\n",
    "# predict the response\n",
    "pred = knn_optimal.predict(X_test)\n",
    "\n",
    "# evaluate accuracy\n",
    "acc = accuracy_score(Y_test, pred) * 100\n",
    "print('\\nThe accuracy of the knn classifier for k = %d is %f%%' % (optimal_k, acc))"
   ]
  },
  {
   "cell_type": "code",
   "execution_count": 8,
   "metadata": {
    "collapsed": true
   },
   "outputs": [],
   "source": [
    "#sent_vectors is the vector converted from text using technique Word2Vec\n",
    "#labels is the class label\n",
    "#Splitting the data set into train and test\n",
    "X_1, X_test, Y_1, Y_test = cross_validation.train_test_split(sent_vectors, labels, test_size=0.3, random_state=0)\n",
    "#10-fold cross validation\n",
    "\n",
    "# creating odd list of K for KNN\n",
    "myList = list(range(0,30))\n",
    "neighbors = list(filter(lambda x: x % 2 != 0, myList))\n",
    "\n",
    "cv_scores_w2v=[]\n",
    "\n"
   ]
  },
  {
   "cell_type": "code",
   "execution_count": 9,
   "metadata": {
    "collapsed": true
   },
   "outputs": [],
   "source": [
    "cv_scores_w2v_kdtree=[]\n",
    "for i in neighbors:\n",
    "    knn_kdtree=KNeighborsClassifier(n_neighbors=i,algorithm='kd_tree')\n",
    "    scores_kdtree=cross_val_score(knn_kdtree, X_1 , Y_1 , cv=10 , scoring='accuracy')#cross_val_scores returns 10 scores.\n",
    "    cv_scores_w2v_kdtree.append(scores_kdtree.mean())"
   ]
  },
  {
   "cell_type": "code",
   "execution_count": 11,
   "metadata": {},
   "outputs": [
    {
     "name": "stdout",
     "output_type": "stream",
     "text": [
      "[0.7887202673591462, 0.8255768612355767, 0.840290762109427, 0.8417156612272969, 0.8455724000019826, 0.8455701559740791, 0.8449993387741609, 0.844570969386818, 0.8458593393630831, 0.846003218373915, 0.84543219621731, 0.8450015839682472, 0.844000765890776, 0.8441438268241364, 0.843001988633796]\n"
     ]
    },
    {
     "data": {
      "image/png": "[encoded data removed]",
      "text/plain": [
       "<matplotlib.figure.Figure at 0x24b1fe6d0b8>"
      ]
     },
     "metadata": {},
     "output_type": "display_data"
    },
    {
     "name": "stdout",
     "output_type": "stream",
     "text": [
      "\n",
      "The optimal number of neighbors is 19.\n",
      "\n",
      "the misclassification error for each k value is :  [0.211 0.174 0.16  0.158 0.154 0.154 0.155 0.155 0.154 0.154 0.155 0.155\n",
      " 0.156 0.156 0.157]\n"
     ]
    }
   ],
   "source": [
    "# changing to misclassification error\n",
    "print(cv_scores_w2v_kdtree)\n",
    "MSE_kdtree = [1-x for x in cv_scores_w2v_kdtree] \n",
    "\n",
    "# plot misclassification error vs k \n",
    "plt.plot(neighbors, MSE_kdtree)\n",
    "\n",
    "for xy in zip(neighbors, np.round(MSE_kdtree,3)):\n",
    "    plt.annotate('(%s, %s)' % xy, xy=xy, textcoords='data')\n",
    "\n",
    "plt.xlabel('Number of Neighbors K')\n",
    "plt.ylabel('Misclassification Error')\n",
    "plt.show()\n",
    "\n",
    "#computing optimal k\n",
    "optimal_k_kdtree=neighbors[MSE_kdtree.index(min(MSE_kdtree))]\n",
    "\n",
    "print('\\nThe optimal number of neighbors is %d.' % optimal_k_kdtree)\n",
    "\n",
    "\n",
    "print(\"\\nthe misclassification error for each k value is : \", np.round(MSE_kdtree,3))"
   ]
  },
  {
   "cell_type": "code",
   "execution_count": 12,
   "metadata": {},
   "outputs": [
    {
     "name": "stdout",
     "output_type": "stream",
     "text": [
      "\n",
      "The accuracy of the knn classifier for k = 19 is 84.700000%\n"
     ]
    }
   ],
   "source": [
    "# instantiate learning model k = optimal_k\n",
    "knn_optimal_kdtree = KNeighborsClassifier(n_neighbors=optimal_k_kdtree)\n",
    "\n",
    "# fitting the model\n",
    "knn_optimal_kdtree.fit(X_1, Y_1)\n",
    "\n",
    "# predict the response\n",
    "pred_kdtree = knn_optimal_kdtree.predict(X_test)\n",
    "\n",
    "# evaluate accuracy\n",
    "acc_kdtree = accuracy_score(Y_test, pred_kdtree) * 100\n",
    "print('\\nThe accuracy of the knn classifier for k = %d is %f%%' % (optimal_k_kdtree, acc_kdtree))"
   ]
  },
  {
   "cell_type": "markdown",
   "metadata": {},
   "source": [
    "**INFERENCE**\n",
    "\n",
    "*It seems that brute force algorithm has slightly more accuracy than kdtree in W2V vectors.*"
   ]
  }
 ],
 "metadata": {
  "kernelspec": {
   "display_name": "Python 3",
   "language": "python",
   "name": "python3"
  },
  "language_info": {
   "codemirror_mode": {
    "name": "ipython",
    "version": 3
   },
   "file_extension": ".py",
   "mimetype": "text/x-python",
   "name": "python",
   "nbconvert_exporter": "python",
   "pygments_lexer": "ipython3",
   "version": "3.6.3"
  }
 },
 "nbformat": 4,
 "nbformat_minor": 2
}
