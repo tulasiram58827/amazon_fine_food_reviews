{
 "cells": [
  {
   "cell_type": "code",
   "execution_count": 1,
   "metadata": {},
   "outputs": [
    {
     "name": "stderr",
     "output_type": "stream",
     "text": [
      "C:\\Users\\TULASI RAM\\Anaconda3\\lib\\site-packages\\sklearn\\cross_validation.py:41: DeprecationWarning: This module was deprecated in version 0.18 in favor of the model_selection module into which all the refactored classes and functions are moved. Also note that the interface of the new CV iterators are different from that of this module. This module will be removed in 0.20.\n",
      "  \"This module will be removed in 0.20.\", DeprecationWarning)\n"
     ]
    }
   ],
   "source": [
    "%matplotlib inline\n",
    "\n",
    "import numpy as np\n",
    "import pandas as pd\n",
    "import matplotlib.pyplot as plt\n",
    "import seaborn as sns\n",
    "import nltk\n",
    "from sklearn.naive_bayes import MultinomialNB\n",
    "from sklearn.cross_validation import cross_val_score"
   ]
  },
  {
   "cell_type": "code",
   "execution_count": 2,
   "metadata": {},
   "outputs": [],
   "source": [
    "#sqlite3 method seems more appropriate to work with this data\n",
    "#importing sqlite3\n",
    "import sqlite3\n",
    "#creating connection with the DataBase file.\n",
    "#Here in final.sqlite  already preprocessed data is added in one column named Cleaned Text\n",
    "con=sqlite3.connect('H:\\\\AI\\\\amazon_food_reviews\\\\final.sqlite')\n",
    "final_data=pd.read_sql_query(\"\"\"SELECT * FROM Reviews \"\"\", con)\n",
    "#it is always required to close the connection\n",
    "con.close()"
   ]
  },
  {
   "cell_type": "code",
   "execution_count": 3,
   "metadata": {},
   "outputs": [
    {
     "name": "stdout",
     "output_type": "stream",
     "text": [
      "Index(['index', 'Id', 'ProductId', 'UserId', 'ProfileName',\n",
      "       'HelpfulnessNumerator', 'HelpfulnessDenominator', 'Score', 'Time',\n",
      "       'Summary', 'Text', 'CleanedText', 'WordCount'],\n",
      "      dtype='object')\n",
      "(364171, 13)\n"
     ]
    }
   ],
   "source": [
    "print(final_data.columns)\n",
    "print(final_data.shape)"
   ]
  },
  {
   "cell_type": "code",
   "execution_count": 4,
   "metadata": {},
   "outputs": [
    {
     "data": {
      "text/html": [
       "<div>\n",
       "<style scoped>\n",
       "    .dataframe tbody tr th:only-of-type {\n",
       "        vertical-align: middle;\n",
       "    }\n",
       "\n",
       "    .dataframe tbody tr th {\n",
       "        vertical-align: top;\n",
       "    }\n",
       "\n",
       "    .dataframe thead th {\n",
       "        text-align: right;\n",
       "    }\n",
       "</style>\n",
       "<table border=\"1\" class=\"dataframe\">\n",
       "  <thead>\n",
       "    <tr style=\"text-align: right;\">\n",
       "      <th></th>\n",
       "      <th>index</th>\n",
       "      <th>Id</th>\n",
       "      <th>ProductId</th>\n",
       "      <th>UserId</th>\n",
       "      <th>ProfileName</th>\n",
       "      <th>HelpfulnessNumerator</th>\n",
       "      <th>HelpfulnessDenominator</th>\n",
       "      <th>Score</th>\n",
       "      <th>Time</th>\n",
       "      <th>Summary</th>\n",
       "      <th>Text</th>\n",
       "      <th>CleanedText</th>\n",
       "      <th>WordCount</th>\n",
       "    </tr>\n",
       "  </thead>\n",
       "  <tbody>\n",
       "    <tr>\n",
       "      <th>0</th>\n",
       "      <td>138706</td>\n",
       "      <td>150524</td>\n",
       "      <td>0006641040</td>\n",
       "      <td>ACITT7DI6IDDL</td>\n",
       "      <td>shari zychinski</td>\n",
       "      <td>0</td>\n",
       "      <td>0</td>\n",
       "      <td>positive</td>\n",
       "      <td>939340800</td>\n",
       "      <td>EVERY book is educational</td>\n",
       "      <td>this witty little book makes my son laugh at l...</td>\n",
       "      <td>b'witti littl book make son laugh loud recit c...</td>\n",
       "      <td>35</td>\n",
       "    </tr>\n",
       "    <tr>\n",
       "      <th>1</th>\n",
       "      <td>138688</td>\n",
       "      <td>150506</td>\n",
       "      <td>0006641040</td>\n",
       "      <td>A2IW4PEEKO2R0U</td>\n",
       "      <td>Tracy</td>\n",
       "      <td>1</td>\n",
       "      <td>1</td>\n",
       "      <td>positive</td>\n",
       "      <td>1194739200</td>\n",
       "      <td>Love the book, miss the hard cover version</td>\n",
       "      <td>I grew up reading these Sendak books, and watc...</td>\n",
       "      <td>b'grew read sendak book watch realli rosi movi...</td>\n",
       "      <td>27</td>\n",
       "    </tr>\n",
       "    <tr>\n",
       "      <th>2</th>\n",
       "      <td>138689</td>\n",
       "      <td>150507</td>\n",
       "      <td>0006641040</td>\n",
       "      <td>A1S4A3IQ2MU7V4</td>\n",
       "      <td>sally sue \"sally sue\"</td>\n",
       "      <td>1</td>\n",
       "      <td>1</td>\n",
       "      <td>positive</td>\n",
       "      <td>1191456000</td>\n",
       "      <td>chicken soup with rice months</td>\n",
       "      <td>This is a fun way for children to learn their ...</td>\n",
       "      <td>b'fun way children learn month year learn poem...</td>\n",
       "      <td>15</td>\n",
       "    </tr>\n",
       "    <tr>\n",
       "      <th>3</th>\n",
       "      <td>138690</td>\n",
       "      <td>150508</td>\n",
       "      <td>0006641040</td>\n",
       "      <td>AZGXZ2UUK6X</td>\n",
       "      <td>Catherine Hallberg \"(Kate)\"</td>\n",
       "      <td>1</td>\n",
       "      <td>1</td>\n",
       "      <td>positive</td>\n",
       "      <td>1076025600</td>\n",
       "      <td>a good swingy rhythm for reading aloud</td>\n",
       "      <td>This is a great little book to read aloud- it ...</td>\n",
       "      <td>b'great littl book read nice rhythm well good ...</td>\n",
       "      <td>50</td>\n",
       "    </tr>\n",
       "    <tr>\n",
       "      <th>4</th>\n",
       "      <td>138691</td>\n",
       "      <td>150509</td>\n",
       "      <td>0006641040</td>\n",
       "      <td>A3CMRKGE0P909G</td>\n",
       "      <td>Teresa</td>\n",
       "      <td>3</td>\n",
       "      <td>4</td>\n",
       "      <td>positive</td>\n",
       "      <td>1018396800</td>\n",
       "      <td>A great way to learn the months</td>\n",
       "      <td>This is a book of poetry about the months of t...</td>\n",
       "      <td>b'book poetri month year goe month cute littl ...</td>\n",
       "      <td>37</td>\n",
       "    </tr>\n",
       "  </tbody>\n",
       "</table>\n",
       "</div>"
      ],
      "text/plain": [
       "    index      Id   ProductId          UserId                  ProfileName  \\\n",
       "0  138706  150524  0006641040   ACITT7DI6IDDL              shari zychinski   \n",
       "1  138688  150506  0006641040  A2IW4PEEKO2R0U                        Tracy   \n",
       "2  138689  150507  0006641040  A1S4A3IQ2MU7V4        sally sue \"sally sue\"   \n",
       "3  138690  150508  0006641040     AZGXZ2UUK6X  Catherine Hallberg \"(Kate)\"   \n",
       "4  138691  150509  0006641040  A3CMRKGE0P909G                       Teresa   \n",
       "\n",
       "   HelpfulnessNumerator  HelpfulnessDenominator     Score        Time  \\\n",
       "0                     0                       0  positive   939340800   \n",
       "1                     1                       1  positive  1194739200   \n",
       "2                     1                       1  positive  1191456000   \n",
       "3                     1                       1  positive  1076025600   \n",
       "4                     3                       4  positive  1018396800   \n",
       "\n",
       "                                      Summary  \\\n",
       "0                   EVERY book is educational   \n",
       "1  Love the book, miss the hard cover version   \n",
       "2               chicken soup with rice months   \n",
       "3      a good swingy rhythm for reading aloud   \n",
       "4             A great way to learn the months   \n",
       "\n",
       "                                                Text  \\\n",
       "0  this witty little book makes my son laugh at l...   \n",
       "1  I grew up reading these Sendak books, and watc...   \n",
       "2  This is a fun way for children to learn their ...   \n",
       "3  This is a great little book to read aloud- it ...   \n",
       "4  This is a book of poetry about the months of t...   \n",
       "\n",
       "                                         CleanedText  WordCount  \n",
       "0  b'witti littl book make son laugh loud recit c...         35  \n",
       "1  b'grew read sendak book watch realli rosi movi...         27  \n",
       "2  b'fun way children learn month year learn poem...         15  \n",
       "3  b'great littl book read nice rhythm well good ...         50  \n",
       "4  b'book poetri month year goe month cute littl ...         37  "
      ]
     },
     "execution_count": 4,
     "metadata": {},
     "output_type": "execute_result"
    }
   ],
   "source": [
    "final_data.head()"
   ]
  },
  {
   "cell_type": "code",
   "execution_count": 5,
   "metadata": {},
   "outputs": [
    {
     "data": {
      "text/plain": [
       "positive    307061\n",
       "negative     57110\n",
       "Name: Score, dtype: int64"
      ]
     },
     "execution_count": 5,
     "metadata": {},
     "output_type": "execute_result"
    }
   ],
   "source": [
    "final_data['Score'].value_counts()"
   ]
  },
  {
   "cell_type": "code",
   "execution_count": 6,
   "metadata": {},
   "outputs": [
    {
     "name": "stdout",
     "output_type": "stream",
     "text": [
      "(57110, 13)\n",
      "(307061, 13)\n"
     ]
    }
   ],
   "source": [
    "#Selecting the sample of the dataframe for the operations\n",
    "\n",
    "\n",
    "Negative = final_data.loc[final_data['Score'] == 'negative']\n",
    "Positive = final_data.loc[final_data['Score'] == 'positive']\n",
    "\n",
    "print(Negative.shape)\n",
    "print(Positive.shape)"
   ]
  },
  {
   "cell_type": "code",
   "execution_count": 7,
   "metadata": {},
   "outputs": [
    {
     "name": "stdout",
     "output_type": "stream",
     "text": [
      "Negative reviews shape (57110, 13)\n",
      "Positive reviews shape (200000, 13)\n",
      "Sampled data shape (257110, 13)\n"
     ]
    }
   ],
   "source": [
    "#As the data looks to be imbalanced we are sampling the data and making it balanced\n",
    "np.random.seed(100)\n",
    "indices=np.random.randint(0, 57110, size=57110)\n",
    "Negative = Negative.iloc[indices]\n",
    "print('Negative reviews shape', Negative.shape)\n",
    "indices=np.random.randint(0, 307061, size=200000)\n",
    "Positive = Positive.iloc[indices]\n",
    "print('Positive reviews shape', Positive.shape)\n",
    "sampled_data=pd.concat([Negative,Positive],ignore_index=False)\n",
    "print('Sampled data shape', sampled_data.shape)"
   ]
  },
  {
   "cell_type": "code",
   "execution_count": 8,
   "metadata": {},
   "outputs": [
    {
     "data": {
      "text/html": [
       "<div>\n",
       "<style scoped>\n",
       "    .dataframe tbody tr th:only-of-type {\n",
       "        vertical-align: middle;\n",
       "    }\n",
       "\n",
       "    .dataframe tbody tr th {\n",
       "        vertical-align: top;\n",
       "    }\n",
       "\n",
       "    .dataframe thead th {\n",
       "        text-align: right;\n",
       "    }\n",
       "</style>\n",
       "<table border=\"1\" class=\"dataframe\">\n",
       "  <thead>\n",
       "    <tr style=\"text-align: right;\">\n",
       "      <th></th>\n",
       "      <th>index</th>\n",
       "      <th>Id</th>\n",
       "      <th>ProductId</th>\n",
       "      <th>UserId</th>\n",
       "      <th>ProfileName</th>\n",
       "      <th>HelpfulnessNumerator</th>\n",
       "      <th>HelpfulnessDenominator</th>\n",
       "      <th>Score</th>\n",
       "      <th>Time</th>\n",
       "      <th>Summary</th>\n",
       "      <th>Text</th>\n",
       "      <th>CleanedText</th>\n",
       "      <th>WordCount</th>\n",
       "    </tr>\n",
       "  </thead>\n",
       "  <tbody>\n",
       "    <tr>\n",
       "      <th>252992</th>\n",
       "      <td>242289</td>\n",
       "      <td>262770</td>\n",
       "      <td>B002V0XB62</td>\n",
       "      <td>A12ENXDRY04XYZ</td>\n",
       "      <td>Josh</td>\n",
       "      <td>0</td>\n",
       "      <td>0</td>\n",
       "      <td>negative</td>\n",
       "      <td>1320019200</td>\n",
       "      <td>Okay overall, very strong non-bacon flavor.</td>\n",
       "      <td>I received a box of this as a gift from my gir...</td>\n",
       "      <td>b'receiv box gift girlfriend almost immedi tri...</td>\n",
       "      <td>48</td>\n",
       "    </tr>\n",
       "    <tr>\n",
       "      <th>358004</th>\n",
       "      <td>311514</td>\n",
       "      <td>337271</td>\n",
       "      <td>B007OSBE1U</td>\n",
       "      <td>#oc-R12KPBODL2B5ZD</td>\n",
       "      <td>Christopher P. Presta</td>\n",
       "      <td>5</td>\n",
       "      <td>8</td>\n",
       "      <td>negative</td>\n",
       "      <td>1348617600</td>\n",
       "      <td>Not what I expected</td>\n",
       "      <td>I didnt like this coffee. Instead of telling y...</td>\n",
       "      <td>b'didnt like coffe instead tell didnt like tel...</td>\n",
       "      <td>26</td>\n",
       "    </tr>\n",
       "    <tr>\n",
       "      <th>95734</th>\n",
       "      <td>240539</td>\n",
       "      <td>260908</td>\n",
       "      <td>B000LKTBMM</td>\n",
       "      <td>AMVB0GDUXWM2R</td>\n",
       "      <td>jackie</td>\n",
       "      <td>1</td>\n",
       "      <td>1</td>\n",
       "      <td>negative</td>\n",
       "      <td>1307232000</td>\n",
       "      <td>worst gf baking mix EVER</td>\n",
       "      <td>this may have been one of the earliest mixes b...</td>\n",
       "      <td>b'may one earliest mix food come long way eat ...</td>\n",
       "      <td>67</td>\n",
       "    </tr>\n",
       "    <tr>\n",
       "      <th>83393</th>\n",
       "      <td>117269</td>\n",
       "      <td>127167</td>\n",
       "      <td>B000HDL1P8</td>\n",
       "      <td>A2YI093RCI57PI</td>\n",
       "      <td>rosekelly</td>\n",
       "      <td>1</td>\n",
       "      <td>2</td>\n",
       "      <td>negative</td>\n",
       "      <td>1234396800</td>\n",
       "      <td>Wimpy and definitely NOT restaurant quality.</td>\n",
       "      <td>I bought this soup based on the glorious revie...</td>\n",
       "      <td>b'bought soup base glorious review armageddon ...</td>\n",
       "      <td>87</td>\n",
       "    </tr>\n",
       "    <tr>\n",
       "      <th>544</th>\n",
       "      <td>192826</td>\n",
       "      <td>209072</td>\n",
       "      <td>B00004RAMY</td>\n",
       "      <td>ADBZZKMY9DZ11</td>\n",
       "      <td>Darrell W Nope</td>\n",
       "      <td>0</td>\n",
       "      <td>1</td>\n",
       "      <td>negative</td>\n",
       "      <td>1314576000</td>\n",
       "      <td>Dissatisfied</td>\n",
       "      <td>The trap is difficult to set.  It requires a l...</td>\n",
       "      <td>b'trap difficult set requir lot physic exert a...</td>\n",
       "      <td>18</td>\n",
       "    </tr>\n",
       "  </tbody>\n",
       "</table>\n",
       "</div>"
      ],
      "text/plain": [
       "         index      Id   ProductId              UserId            ProfileName  \\\n",
       "252992  242289  262770  B002V0XB62      A12ENXDRY04XYZ                   Josh   \n",
       "358004  311514  337271  B007OSBE1U  #oc-R12KPBODL2B5ZD  Christopher P. Presta   \n",
       "95734   240539  260908  B000LKTBMM       AMVB0GDUXWM2R                 jackie   \n",
       "83393   117269  127167  B000HDL1P8      A2YI093RCI57PI              rosekelly   \n",
       "544     192826  209072  B00004RAMY       ADBZZKMY9DZ11         Darrell W Nope   \n",
       "\n",
       "        HelpfulnessNumerator  HelpfulnessDenominator     Score        Time  \\\n",
       "252992                     0                       0  negative  1320019200   \n",
       "358004                     5                       8  negative  1348617600   \n",
       "95734                      1                       1  negative  1307232000   \n",
       "83393                      1                       2  negative  1234396800   \n",
       "544                        0                       1  negative  1314576000   \n",
       "\n",
       "                                             Summary  \\\n",
       "252992   Okay overall, very strong non-bacon flavor.   \n",
       "358004                           Not what I expected   \n",
       "95734                       worst gf baking mix EVER   \n",
       "83393   Wimpy and definitely NOT restaurant quality.   \n",
       "544                                     Dissatisfied   \n",
       "\n",
       "                                                     Text  \\\n",
       "252992  I received a box of this as a gift from my gir...   \n",
       "358004  I didnt like this coffee. Instead of telling y...   \n",
       "95734   this may have been one of the earliest mixes b...   \n",
       "83393   I bought this soup based on the glorious revie...   \n",
       "544     The trap is difficult to set.  It requires a l...   \n",
       "\n",
       "                                              CleanedText  WordCount  \n",
       "252992  b'receiv box gift girlfriend almost immedi tri...         48  \n",
       "358004  b'didnt like coffe instead tell didnt like tel...         26  \n",
       "95734   b'may one earliest mix food come long way eat ...         67  \n",
       "83393   b'bought soup base glorious review armageddon ...         87  \n",
       "544     b'trap difficult set requir lot physic exert a...         18  "
      ]
     },
     "execution_count": 8,
     "metadata": {},
     "output_type": "execute_result"
    }
   ],
   "source": [
    "sampled_data.head()"
   ]
  },
  {
   "cell_type": "code",
   "execution_count": 9,
   "metadata": {},
   "outputs": [
    {
     "data": {
      "text/html": [
       "<div>\n",
       "<style scoped>\n",
       "    .dataframe tbody tr th:only-of-type {\n",
       "        vertical-align: middle;\n",
       "    }\n",
       "\n",
       "    .dataframe tbody tr th {\n",
       "        vertical-align: top;\n",
       "    }\n",
       "\n",
       "    .dataframe thead th {\n",
       "        text-align: right;\n",
       "    }\n",
       "</style>\n",
       "<table border=\"1\" class=\"dataframe\">\n",
       "  <thead>\n",
       "    <tr style=\"text-align: right;\">\n",
       "      <th></th>\n",
       "      <th>index</th>\n",
       "      <th>Id</th>\n",
       "      <th>ProductId</th>\n",
       "      <th>UserId</th>\n",
       "      <th>ProfileName</th>\n",
       "      <th>HelpfulnessNumerator</th>\n",
       "      <th>HelpfulnessDenominator</th>\n",
       "      <th>Score</th>\n",
       "      <th>Time</th>\n",
       "      <th>Summary</th>\n",
       "      <th>Text</th>\n",
       "      <th>CleanedText</th>\n",
       "      <th>WordCount</th>\n",
       "    </tr>\n",
       "  </thead>\n",
       "  <tbody>\n",
       "    <tr>\n",
       "      <th>30</th>\n",
       "      <td>138683</td>\n",
       "      <td>150501</td>\n",
       "      <td>0006641040</td>\n",
       "      <td>AJ46FKXOVC7NR</td>\n",
       "      <td>Nicholas A Mesiano</td>\n",
       "      <td>2</td>\n",
       "      <td>2</td>\n",
       "      <td>positive</td>\n",
       "      <td>940809600</td>\n",
       "      <td>This whole series is great way to spend time w...</td>\n",
       "      <td>I can remember seeing the show when it aired o...</td>\n",
       "      <td>b'rememb see show air televis year ago child s...</td>\n",
       "      <td>30</td>\n",
       "    </tr>\n",
       "    <tr>\n",
       "      <th>423</th>\n",
       "      <td>417838</td>\n",
       "      <td>451855</td>\n",
       "      <td>B00004CXX9</td>\n",
       "      <td>AJH6LUC1UT1ON</td>\n",
       "      <td>The Phantom of the Opera</td>\n",
       "      <td>0</td>\n",
       "      <td>0</td>\n",
       "      <td>positive</td>\n",
       "      <td>946857600</td>\n",
       "      <td>FANTASTIC!</td>\n",
       "      <td>Beetlejuice is an excellent and funny movie. K...</td>\n",
       "      <td>b'beetlejuic excel funni movi keaton hilari wa...</td>\n",
       "      <td>26</td>\n",
       "    </tr>\n",
       "    <tr>\n",
       "      <th>423</th>\n",
       "      <td>417838</td>\n",
       "      <td>451855</td>\n",
       "      <td>B00004CXX9</td>\n",
       "      <td>AJH6LUC1UT1ON</td>\n",
       "      <td>The Phantom of the Opera</td>\n",
       "      <td>0</td>\n",
       "      <td>0</td>\n",
       "      <td>positive</td>\n",
       "      <td>946857600</td>\n",
       "      <td>FANTASTIC!</td>\n",
       "      <td>Beetlejuice is an excellent and funny movie. K...</td>\n",
       "      <td>b'beetlejuic excel funni movi keaton hilari wa...</td>\n",
       "      <td>26</td>\n",
       "    </tr>\n",
       "    <tr>\n",
       "      <th>308</th>\n",
       "      <td>346041</td>\n",
       "      <td>374343</td>\n",
       "      <td>B00004CI84</td>\n",
       "      <td>A1B2IZU1JLZA6</td>\n",
       "      <td>Wes</td>\n",
       "      <td>19</td>\n",
       "      <td>23</td>\n",
       "      <td>negative</td>\n",
       "      <td>948240000</td>\n",
       "      <td>WARNING: CLAMSHELL EDITION IS EDITED TV VERSION</td>\n",
       "      <td>I, myself always enjoyed this movie, it's very...</td>\n",
       "      <td>b'alway enjoy movi funni entertain didnt hesit...</td>\n",
       "      <td>32</td>\n",
       "    </tr>\n",
       "    <tr>\n",
       "      <th>261</th>\n",
       "      <td>346141</td>\n",
       "      <td>374450</td>\n",
       "      <td>B00004CI84</td>\n",
       "      <td>ACJR7EQF9S6FP</td>\n",
       "      <td>Jeremy Robertson</td>\n",
       "      <td>2</td>\n",
       "      <td>3</td>\n",
       "      <td>positive</td>\n",
       "      <td>951523200</td>\n",
       "      <td>Bettlejuice...Bettlejuice...BETTLEJUICE!</td>\n",
       "      <td>What happens when you say his name three times...</td>\n",
       "      <td>b'happen say name three time michael keaten st...</td>\n",
       "      <td>104</td>\n",
       "    </tr>\n",
       "  </tbody>\n",
       "</table>\n",
       "</div>"
      ],
      "text/plain": [
       "      index      Id   ProductId         UserId               ProfileName  \\\n",
       "30   138683  150501  0006641040  AJ46FKXOVC7NR        Nicholas A Mesiano   \n",
       "423  417838  451855  B00004CXX9  AJH6LUC1UT1ON  The Phantom of the Opera   \n",
       "423  417838  451855  B00004CXX9  AJH6LUC1UT1ON  The Phantom of the Opera   \n",
       "308  346041  374343  B00004CI84  A1B2IZU1JLZA6                       Wes   \n",
       "261  346141  374450  B00004CI84  ACJR7EQF9S6FP          Jeremy Robertson   \n",
       "\n",
       "     HelpfulnessNumerator  HelpfulnessDenominator     Score       Time  \\\n",
       "30                      2                       2  positive  940809600   \n",
       "423                     0                       0  positive  946857600   \n",
       "423                     0                       0  positive  946857600   \n",
       "308                    19                      23  negative  948240000   \n",
       "261                     2                       3  positive  951523200   \n",
       "\n",
       "                                               Summary  \\\n",
       "30   This whole series is great way to spend time w...   \n",
       "423                                         FANTASTIC!   \n",
       "423                                         FANTASTIC!   \n",
       "308    WARNING: CLAMSHELL EDITION IS EDITED TV VERSION   \n",
       "261           Bettlejuice...Bettlejuice...BETTLEJUICE!   \n",
       "\n",
       "                                                  Text  \\\n",
       "30   I can remember seeing the show when it aired o...   \n",
       "423  Beetlejuice is an excellent and funny movie. K...   \n",
       "423  Beetlejuice is an excellent and funny movie. K...   \n",
       "308  I, myself always enjoyed this movie, it's very...   \n",
       "261  What happens when you say his name three times...   \n",
       "\n",
       "                                           CleanedText  WordCount  \n",
       "30   b'rememb see show air televis year ago child s...         30  \n",
       "423  b'beetlejuic excel funni movi keaton hilari wa...         26  \n",
       "423  b'beetlejuic excel funni movi keaton hilari wa...         26  \n",
       "308  b'alway enjoy movi funni entertain didnt hesit...         32  \n",
       "261  b'happen say name three time michael keaten st...        104  "
      ]
     },
     "execution_count": 9,
     "metadata": {},
     "output_type": "execute_result"
    }
   ],
   "source": [
    "sorted_data=sampled_data.sort_values(by=['Time'])\n",
    "\n",
    "sorted_data.head()\n"
   ]
  },
  {
   "cell_type": "code",
   "execution_count": 10,
   "metadata": {},
   "outputs": [],
   "source": [
    "from sklearn import cross_validation\n",
    "labels=sorted_data['Score']\n",
    "#Splitting the data into train and test \n",
    "X_1, X_test, Y_1, Y_test=cross_validation.train_test_split(sorted_data['CleanedText'] , labels, test_size=0.25 ,random_state=0)\n"
   ]
  },
  {
   "cell_type": "code",
   "execution_count": 12,
   "metadata": {},
   "outputs": [],
   "source": [
    "from sklearn.feature_extraction.text import CountVectorizer\n",
    "bow_vectorizer = CountVectorizer(binary=True)\n",
    "bow_vect = bow_vectorizer.fit_transform(X_1)"
   ]
  },
  {
   "cell_type": "code",
   "execution_count": 13,
   "metadata": {},
   "outputs": [
    {
     "name": "stdout",
     "output_type": "stream",
     "text": [
      "(192832, 46250)\n"
     ]
    }
   ],
   "source": [
    "print(bow_vect.shape)"
   ]
  },
  {
   "cell_type": "code",
   "execution_count": 14,
   "metadata": {},
   "outputs": [
    {
     "name": "stdout",
     "output_type": "stream",
     "text": [
      "\n",
      "The optimal alpha value is 1.\n"
     ]
    },
    {
     "data": {
      "image/png": "[encoded data removed]",
      "text/plain": [
       "<Figure size 432x288 with 1 Axes>"
      ]
     },
     "metadata": {},
     "output_type": "display_data"
    },
    {
     "name": "stdout",
     "output_type": "stream",
     "text": [
      "the misclassification error for each alpha value is :  [0.108 0.108 0.11  0.113 0.117 0.123 0.129 0.135 0.141]\n"
     ]
    }
   ],
   "source": [
    "from sklearn.naive_bayes import MultinomialNB\n",
    "from sklearn.cross_validation import cross_val_score\n",
    "\n",
    "List = list(range(1,10))\n",
    "cv_scores=[]\n",
    "for k in List:\n",
    "    NB = MultinomialNB(alpha=k)\n",
    "    scores = cross_val_score(NB, bow_vect, Y_1, cv=10, scoring='accuracy')\n",
    "    cv_scores.append(scores.mean())\n",
    "\n",
    "# changing to misclassification error\n",
    "MSE = [1 - x for x in cv_scores]\n",
    "\n",
    "# determining best k\n",
    "optimal_alpha = List[MSE.index(min(MSE))]\n",
    "print('\\nThe optimal alpha value is %d.' % optimal_alpha)\n",
    "\n",
    "# plot misclassification error vs k \n",
    "plt.plot(List, MSE)\n",
    "\n",
    "for xy in zip(List, np.round(MSE,3)):\n",
    "    plt.annotate('(%s, %s)' % xy, xy=xy, textcoords='data')\n",
    "\n",
    "plt.xlabel('alpha values')\n",
    "plt.ylabel('Misclassification Error')\n",
    "plt.show()\n",
    "\n",
    "print(\"the misclassification error for each alpha value is : \", np.round(MSE,3))    \n"
   ]
  },
  {
   "cell_type": "code",
   "execution_count": 15,
   "metadata": {},
   "outputs": [
    {
     "name": "stdout",
     "output_type": "stream",
     "text": [
      "(64278, 46250)\n"
     ]
    }
   ],
   "source": [
    "bow_vect_test = bow_vectorizer.transform(X_test)\n",
    "print(bow_vect_test.shape)"
   ]
  },
  {
   "cell_type": "code",
   "execution_count": 34,
   "metadata": {},
   "outputs": [],
   "source": [
    "def plot_confusion_matrix(test_y, predict_y):\n",
    "    C = confusion_matrix(test_y, predict_y)\n",
    "    A =(((C.T)/(C.sum(axis=1))).T)\n",
    "                   \n",
    "    B =(C/C.sum(axis=0))\n",
    " \n",
    "    labels = [1,2]\n",
    "    # representing A in heatmap format\n",
    "    print(\"-\"*20, \"Confusion matrix\", \"-\"*20)\n",
    "    plt.figure(figsize=(10,5))\n",
    "    sns.heatmap(C, annot=True, cmap=\"YlGnBu\", fmt=\".3f\", xticklabels=labels, yticklabels=labels)\n",
    "    plt.xlabel('Predicted Class')\n",
    "    plt.ylabel('Original Class')\n",
    "    plt.show()\n",
    "    print(\"-\"*20, \"Precision matrix (Columm Sum=1)\", \"-\"*20)\n",
    "    plt.figure(figsize=(10,5))\n",
    "    sns.heatmap(B, annot=True, cmap=\"YlGnBu\", fmt=\".3f\", xticklabels=labels, yticklabels=labels)\n",
    "    plt.xlabel('Predicted Class')\n",
    "    plt.ylabel('Original Class')\n",
    "    plt.show()"
   ]
  },
  {
   "cell_type": "code",
   "execution_count": 35,
   "metadata": {},
   "outputs": [
    {
     "name": "stdout",
     "output_type": "stream",
     "text": [
      "-------------------- Confusion matrix --------------------\n"
     ]
    },
    {
     "data": {
      "image/png": "[encoded data removed]",
      "text/plain": [
       "<Figure size 720x360 with 2 Axes>"
      ]
     },
     "metadata": {},
     "output_type": "display_data"
    },
    {
     "name": "stdout",
     "output_type": "stream",
     "text": [
      "-------------------- Precision matrix (Columm Sum=1) --------------------\n"
     ]
    },
    {
     "data": {
      "image/png": "[encoded data removed]",
      "text/plain": [
       "<Figure size 720x360 with 2 Axes>"
      ]
     },
     "metadata": {},
     "output_type": "display_data"
    }
   ],
   "source": [
    "# ============================== KNN with k = optimal_k ===============================================\n",
    "# instantiate learning model k = optimal_k\n",
    "from sklearn.metrics import accuracy_score\n",
    "from sklearn.metrics import confusion_matrix\n",
    "from sklearn.metrics import precision_score\n",
    "from sklearn.metrics import recall_score\n",
    "from sklearn.metrics import f1_score\n",
    "\n",
    "\n",
    "nb_optimal = MultinomialNB(alpha=optimal_alpha)\n",
    "\n",
    "# fitting the model\n",
    "nb_optimal.fit(bow_vect, Y_1)\n",
    "\n",
    "# predict the response\n",
    "pred = nb_optimal.predict(bow_vect_test)\n",
    "\n",
    "# evaluate accuracy\n",
    "acc = accuracy_score(Y_test, pred) * 100\n",
    "plot_confusion_matrix(Y_test,pred)"
   ]
  },
  {
   "cell_type": "markdown",
   "metadata": {},
   "source": [
    "**CONCLUSION**\n",
    "\n",
    "*Of all the points to be predicted as class1 , 78percent are actually class1, and 22 percent are actually class2.*\n",
    "\n",
    "*Similarly,of all the points to be predicted as class2, 92.5 percent are actually class2 and 7.5 percent are actually class1.*"
   ]
  },
  {
   "cell_type": "markdown",
   "metadata": {
    "collapsed": true
   },
   "source": [
    "**TF-IDF**"
   ]
  },
  {
   "cell_type": "code",
   "execution_count": 23,
   "metadata": {},
   "outputs": [
    {
     "data": {
      "text/plain": [
       "(192832, 46250)"
      ]
     },
     "execution_count": 23,
     "metadata": {},
     "output_type": "execute_result"
    }
   ],
   "source": [
    "from sklearn.feature_extraction.text import TfidfVectorizer\n",
    "tfidf_vectorizer = TfidfVectorizer()\n",
    "tfidf_vect = tfidf_vectorizer.fit_transform(X_1)\n",
    "tfidf_vect.shape"
   ]
  },
  {
   "cell_type": "code",
   "execution_count": 24,
   "metadata": {},
   "outputs": [
    {
     "name": "stdout",
     "output_type": "stream",
     "text": [
      "\n",
      "The optimal alpha value is 1.\n"
     ]
    },
    {
     "data": {
      "image/png": "[encoded data removed]",
      "text/plain": [
       "<Figure size 432x288 with 1 Axes>"
      ]
     },
     "metadata": {},
     "output_type": "display_data"
    },
    {
     "name": "stdout",
     "output_type": "stream",
     "text": [
      "the misclassification error for each alpha value is :  [0.17  0.194 0.207 0.214 0.218 0.22  0.221 0.222 0.222]\n"
     ]
    }
   ],
   "source": [
    "List = list(range(1,10))\n",
    "cv_scores=[]\n",
    "for k in List:\n",
    "    NB = MultinomialNB(alpha=k)\n",
    "    scores = cross_val_score(NB, tfidf_vect, Y_1, cv=10, scoring='accuracy')\n",
    "    cv_scores.append(scores.mean())\n",
    "\n",
    "# changing to misclassification error\n",
    "MSE = [1 - x for x in cv_scores]\n",
    "\n",
    "# determining best k\n",
    "optimal_alpha = List[MSE.index(min(MSE))]\n",
    "print('\\nThe optimal alpha value is %d.' % optimal_alpha)\n",
    "\n",
    "# plot misclassification error vs k \n",
    "plt.plot(List, MSE)\n",
    "\n",
    "for xy in zip(List, np.round(MSE,3)):\n",
    "    plt.annotate('(%s, %s)' % xy, xy=xy, textcoords='data')\n",
    "\n",
    "plt.xlabel('alpha values')\n",
    "plt.ylabel('Misclassification Error')\n",
    "plt.show()\n",
    "\n",
    "print(\"the misclassification error for each alpha value is : \", np.round(MSE,3))    \n"
   ]
  },
  {
   "cell_type": "code",
   "execution_count": 26,
   "metadata": {},
   "outputs": [
    {
     "name": "stdout",
     "output_type": "stream",
     "text": [
      "(64278, 46250)\n"
     ]
    }
   ],
   "source": [
    "tfidf_vect_test = tfidf_vectorizer.transform(X_test)\n",
    "print(tfidf_vect_test.shape)"
   ]
  },
  {
   "cell_type": "code",
   "execution_count": 36,
   "metadata": {},
   "outputs": [
    {
     "name": "stdout",
     "output_type": "stream",
     "text": [
      "-------------------- Confusion matrix --------------------\n"
     ]
    },
    {
     "data": {
      "image/png": "[encoded data removed]",
      "text/plain": [
       "<Figure size 720x360 with 2 Axes>"
      ]
     },
     "metadata": {},
     "output_type": "display_data"
    },
    {
     "name": "stdout",
     "output_type": "stream",
     "text": [
      "-------------------- Precision matrix (Columm Sum=1) --------------------\n"
     ]
    },
    {
     "data": {
      "image/png": "[encoded data removed]",
      "text/plain": [
       "<Figure size 720x360 with 2 Axes>"
      ]
     },
     "metadata": {},
     "output_type": "display_data"
    }
   ],
   "source": [
    "nb_optimal = MultinomialNB(alpha=optimal_alpha)\n",
    "\n",
    "# fitting the model\n",
    "nb_optimal.fit(tfidf_vect, Y_1)\n",
    "\n",
    "# predict the response\n",
    "pred = nb_optimal.predict(tfidf_vect_test)\n",
    "\n",
    "# evaluate accuracy\n",
    "acc = accuracy_score(Y_test, pred) * 100\n",
    "plot_confusion_matrix(Y_test,pred)"
   ]
  },
  {
   "cell_type": "markdown",
   "metadata": {
    "collapsed": true
   },
   "source": [
    "**CONCLUSION**\n",
    "\n",
    "*Of all the points to be predicted as class1, 93.8 percent are actually class1 and 6.2percent are actually class2.*\n",
    "\n",
    "*Of all the points to be predicted as class2, 83.0 percent are actually class2 and 17percent are actually class1.*"
   ]
  },
  {
   "cell_type": "markdown",
   "metadata": {},
   "source": [
    "**FINAL OBSEVARTION**\n",
    "\n",
    "*BOW vectorization is most accuractely predicting class2 data points,while the TF-IDF vectorization is most accurately predicting class1 data points.*"
   ]
  }
 ],
 "metadata": {
  "kernelspec": {
   "display_name": "Python 3",
   "language": "python",
   "name": "python3"
  },
  "language_info": {
   "codemirror_mode": {
    "name": "ipython",
    "version": 3
   },
   "file_extension": ".py",
   "mimetype": "text/x-python",
   "name": "python",
   "nbconvert_exporter": "python",
   "pygments_lexer": "ipython3",
   "version": "3.6.5"
  }
 },
 "nbformat": 4,
 "nbformat_minor": 2
}
